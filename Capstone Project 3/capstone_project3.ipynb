{
 "cells": [
  {
   "cell_type": "markdown",
   "metadata": {},
   "source": [
    "### Capstone Project 3 Imannov Kaba - EDA (TRAVEL INSURANCE)"
   ]
  },
  {
   "cell_type": "markdown",
   "metadata": {},
   "source": [
    "Importing libraries"
   ]
  },
  {
   "cell_type": "code",
   "execution_count": 67,
   "metadata": {},
   "outputs": [],
   "source": [
    "import pandas as pd\n",
    "import numpy as np \n",
    "import matplotlib.pyplot as plt\n",
    "import seaborn as sns\n",
    "import warnings\n",
    "warnings.filterwarnings(\"ignore\") ##imported this to ignore all warnings\n",
    "sns.set_theme()\n",
    "from matplotlib.ticker import PercentFormatter\n",
    "\n"
   ]
  },
  {
   "cell_type": "code",
   "execution_count": 7,
   "metadata": {},
   "outputs": [
    {
     "data": {
      "image/png": "[encoded data removed]",
      "text/plain": [
       "<Figure size 500x100 with 1 Axes>"
      ]
     },
     "metadata": {},
     "output_type": "display_data"
    },
    {
     "data": {
      "image/png": "[encoded data removed]",
      "text/plain": [
       "<Figure size 500x100 with 1 Axes>"
      ]
     },
     "metadata": {},
     "output_type": "display_data"
    },
    {
     "data": {
      "image/png": "[encoded data removed]",
      "text/plain": [
       "<Figure size 200x100 with 1 Axes>"
      ]
     },
     "metadata": {},
     "output_type": "display_data"
    }
   ],
   "source": [
    "color_palette = [\"#D81159\", \"#8F2D56\", '#218380', '#FBB13C', '#73D2DE']\n",
    "dark_color = [\"#37371F\", \"#540804\", '#BF6900', '#55505C', '#0C4767']\n",
    "two_tone = [dark_color[2], color_palette[2]]\n",
    "sns.palplot(color_palette)\n",
    "sns.palplot(dark_color)\n",
    "sns.palplot(two_tone)"
   ]
  },
  {
   "cell_type": "code",
   "execution_count": 11,
   "metadata": {},
   "outputs": [
    {
     "data": {
      "text/html": [
       "<div>\n",
       "<style scoped>\n",
       "    .dataframe tbody tr th:only-of-type {\n",
       "        vertical-align: middle;\n",
       "    }\n",
       "\n",
       "    .dataframe tbody tr th {\n",
       "        vertical-align: top;\n",
       "    }\n",
       "\n",
       "    .dataframe thead th {\n",
       "        text-align: right;\n",
       "    }\n",
       "</style>\n",
       "<table border=\"1\" class=\"dataframe\">\n",
       "  <thead>\n",
       "    <tr style=\"text-align: right;\">\n",
       "      <th></th>\n",
       "      <th>Agency</th>\n",
       "      <th>Agency Type</th>\n",
       "      <th>Distribution Channel</th>\n",
       "      <th>Product Name</th>\n",
       "      <th>Gender</th>\n",
       "      <th>Duration</th>\n",
       "      <th>Destination</th>\n",
       "      <th>Net Sales</th>\n",
       "      <th>Commision (in value)</th>\n",
       "      <th>Age</th>\n",
       "      <th>Claim</th>\n",
       "    </tr>\n",
       "  </thead>\n",
       "  <tbody>\n",
       "    <tr>\n",
       "      <th>0</th>\n",
       "      <td>C2B</td>\n",
       "      <td>Airlines</td>\n",
       "      <td>Online</td>\n",
       "      <td>Annual Silver Plan</td>\n",
       "      <td>F</td>\n",
       "      <td>365</td>\n",
       "      <td>SINGAPORE</td>\n",
       "      <td>216.0</td>\n",
       "      <td>54.0</td>\n",
       "      <td>57</td>\n",
       "      <td>No</td>\n",
       "    </tr>\n",
       "    <tr>\n",
       "      <th>1</th>\n",
       "      <td>EPX</td>\n",
       "      <td>Travel Agency</td>\n",
       "      <td>Online</td>\n",
       "      <td>Cancellation Plan</td>\n",
       "      <td>NaN</td>\n",
       "      <td>4</td>\n",
       "      <td>MALAYSIA</td>\n",
       "      <td>10.0</td>\n",
       "      <td>0.0</td>\n",
       "      <td>33</td>\n",
       "      <td>No</td>\n",
       "    </tr>\n",
       "    <tr>\n",
       "      <th>2</th>\n",
       "      <td>JZI</td>\n",
       "      <td>Airlines</td>\n",
       "      <td>Online</td>\n",
       "      <td>Basic Plan</td>\n",
       "      <td>M</td>\n",
       "      <td>19</td>\n",
       "      <td>INDIA</td>\n",
       "      <td>22.0</td>\n",
       "      <td>7.7</td>\n",
       "      <td>26</td>\n",
       "      <td>No</td>\n",
       "    </tr>\n",
       "    <tr>\n",
       "      <th>3</th>\n",
       "      <td>EPX</td>\n",
       "      <td>Travel Agency</td>\n",
       "      <td>Online</td>\n",
       "      <td>2 way Comprehensive Plan</td>\n",
       "      <td>NaN</td>\n",
       "      <td>20</td>\n",
       "      <td>UNITED STATES</td>\n",
       "      <td>112.0</td>\n",
       "      <td>0.0</td>\n",
       "      <td>59</td>\n",
       "      <td>No</td>\n",
       "    </tr>\n",
       "    <tr>\n",
       "      <th>4</th>\n",
       "      <td>C2B</td>\n",
       "      <td>Airlines</td>\n",
       "      <td>Online</td>\n",
       "      <td>Bronze Plan</td>\n",
       "      <td>M</td>\n",
       "      <td>8</td>\n",
       "      <td>SINGAPORE</td>\n",
       "      <td>16.0</td>\n",
       "      <td>4.0</td>\n",
       "      <td>28</td>\n",
       "      <td>No</td>\n",
       "    </tr>\n",
       "  </tbody>\n",
       "</table>\n",
       "</div>"
      ],
      "text/plain": [
       "  Agency    Agency Type Distribution Channel              Product Name Gender  \\\n",
       "0    C2B       Airlines               Online        Annual Silver Plan      F   \n",
       "1    EPX  Travel Agency               Online         Cancellation Plan    NaN   \n",
       "2    JZI       Airlines               Online                Basic Plan      M   \n",
       "3    EPX  Travel Agency               Online  2 way Comprehensive Plan    NaN   \n",
       "4    C2B       Airlines               Online               Bronze Plan      M   \n",
       "\n",
       "   Duration    Destination  Net Sales  Commision (in value)  Age Claim  \n",
       "0       365      SINGAPORE      216.0                  54.0   57    No  \n",
       "1         4       MALAYSIA       10.0                   0.0   33    No  \n",
       "2        19          INDIA       22.0                   7.7   26    No  \n",
       "3        20  UNITED STATES      112.0                   0.0   59    No  \n",
       "4         8      SINGAPORE       16.0                   4.0   28    No  "
      ]
     },
     "execution_count": 11,
     "metadata": {},
     "output_type": "execute_result"
    }
   ],
   "source": [
    "df = pd.read_csv(\"data_travel_insurance.csv\")\n",
    "df_copy = df.copy() #always make a backup of a data\n",
    "df.head(5)"
   ]
  },
  {
   "cell_type": "code",
   "execution_count": 3,
   "metadata": {},
   "outputs": [
    {
     "name": "stdout",
     "output_type": "stream",
     "text": [
      "This dataset consists of 44328 rows and 11 columns.\n",
      "Columns of the dataset: \n",
      "------------------------------------------------------------\n",
      "<class 'pandas.core.frame.DataFrame'>\n",
      "RangeIndex: 44328 entries, 0 to 44327\n",
      "Data columns (total 11 columns):\n",
      " #   Column                Non-Null Count  Dtype  \n",
      "---  ------                --------------  -----  \n",
      " 0   Agency                44328 non-null  object \n",
      " 1   Agency Type           44328 non-null  object \n",
      " 2   Distribution Channel  44328 non-null  object \n",
      " 3   Product Name          44328 non-null  object \n",
      " 4   Gender                12681 non-null  object \n",
      " 5   Duration              44328 non-null  int64  \n",
      " 6   Destination           44328 non-null  object \n",
      " 7   Net Sales             44328 non-null  float64\n",
      " 8   Commision (in value)  44328 non-null  float64\n",
      " 9   Age                   44328 non-null  int64  \n",
      " 10  Claim                 44328 non-null  object \n",
      "dtypes: float64(2), int64(2), object(7)\n",
      "memory usage: 3.7+ MB\n",
      "None\n"
     ]
    }
   ],
   "source": [
    "print(f\"This dataset consists of {df.shape[0]} rows and {df.shape[1]} columns.\")\n",
    "print(\"Columns of the dataset: \")\n",
    "print(\"---\"*20)\n",
    "print(df.info())"
   ]
  },
  {
   "cell_type": "code",
   "execution_count": 5,
   "metadata": {},
   "outputs": [
    {
     "data": {
      "text/html": [
       "<div>\n",
       "<style scoped>\n",
       "    .dataframe tbody tr th:only-of-type {\n",
       "        vertical-align: middle;\n",
       "    }\n",
       "\n",
       "    .dataframe tbody tr th {\n",
       "        vertical-align: top;\n",
       "    }\n",
       "\n",
       "    .dataframe thead th {\n",
       "        text-align: right;\n",
       "    }\n",
       "</style>\n",
       "<table border=\"1\" class=\"dataframe\">\n",
       "  <thead>\n",
       "    <tr style=\"text-align: right;\">\n",
       "      <th></th>\n",
       "      <th>count</th>\n",
       "      <th>mean</th>\n",
       "      <th>std</th>\n",
       "      <th>min</th>\n",
       "      <th>25%</th>\n",
       "      <th>50%</th>\n",
       "      <th>75%</th>\n",
       "      <th>max</th>\n",
       "    </tr>\n",
       "  </thead>\n",
       "  <tbody>\n",
       "    <tr>\n",
       "      <th>Duration</th>\n",
       "      <td>44328.0</td>\n",
       "      <td>49.424292</td>\n",
       "      <td>109.153961</td>\n",
       "      <td>-1.0</td>\n",
       "      <td>9.0</td>\n",
       "      <td>22.0</td>\n",
       "      <td>53.00</td>\n",
       "      <td>4881.0</td>\n",
       "    </tr>\n",
       "    <tr>\n",
       "      <th>Net Sales</th>\n",
       "      <td>44328.0</td>\n",
       "      <td>40.550948</td>\n",
       "      <td>48.661970</td>\n",
       "      <td>-357.5</td>\n",
       "      <td>18.0</td>\n",
       "      <td>26.5</td>\n",
       "      <td>48.00</td>\n",
       "      <td>810.0</td>\n",
       "    </tr>\n",
       "    <tr>\n",
       "      <th>Commision (in value)</th>\n",
       "      <td>44328.0</td>\n",
       "      <td>9.707692</td>\n",
       "      <td>19.625637</td>\n",
       "      <td>0.0</td>\n",
       "      <td>0.0</td>\n",
       "      <td>0.0</td>\n",
       "      <td>11.55</td>\n",
       "      <td>283.5</td>\n",
       "    </tr>\n",
       "    <tr>\n",
       "      <th>Age</th>\n",
       "      <td>44328.0</td>\n",
       "      <td>39.925600</td>\n",
       "      <td>13.954926</td>\n",
       "      <td>0.0</td>\n",
       "      <td>35.0</td>\n",
       "      <td>36.0</td>\n",
       "      <td>43.00</td>\n",
       "      <td>118.0</td>\n",
       "    </tr>\n",
       "  </tbody>\n",
       "</table>\n",
       "</div>"
      ],
      "text/plain": [
       "                        count       mean         std    min   25%   50%  \\\n",
       "Duration              44328.0  49.424292  109.153961   -1.0   9.0  22.0   \n",
       "Net Sales             44328.0  40.550948   48.661970 -357.5  18.0  26.5   \n",
       "Commision (in value)  44328.0   9.707692   19.625637    0.0   0.0   0.0   \n",
       "Age                   44328.0  39.925600   13.954926    0.0  35.0  36.0   \n",
       "\n",
       "                        75%     max  \n",
       "Duration              53.00  4881.0  \n",
       "Net Sales             48.00   810.0  \n",
       "Commision (in value)  11.55   283.5  \n",
       "Age                   43.00   118.0  "
      ]
     },
     "execution_count": 5,
     "metadata": {},
     "output_type": "execute_result"
    }
   ],
   "source": [
    "df.describe(include=np.number).T #T here is to transpose. personal preference, feel free to delete the T to show the untransposed"
   ]
  },
  {
   "cell_type": "markdown",
   "metadata": {},
   "source": [
    "Kesimpulan:\n",
    "1. Net sales negative\n",
    "2. Durasi negatif. Maximum durationnya sangat tinggi (bisa jadi outliers disebabkan oleh salah entry.)\n",
    "3. Age paling tuanya 118 (bisa jadi disebabkan oleh salah entry)"
   ]
  },
  {
   "cell_type": "code",
   "execution_count": 6,
   "metadata": {},
   "outputs": [
    {
     "data": {
      "text/html": [
       "<div>\n",
       "<style scoped>\n",
       "    .dataframe tbody tr th:only-of-type {\n",
       "        vertical-align: middle;\n",
       "    }\n",
       "\n",
       "    .dataframe tbody tr th {\n",
       "        vertical-align: top;\n",
       "    }\n",
       "\n",
       "    .dataframe thead th {\n",
       "        text-align: right;\n",
       "    }\n",
       "</style>\n",
       "<table border=\"1\" class=\"dataframe\">\n",
       "  <thead>\n",
       "    <tr style=\"text-align: right;\">\n",
       "      <th></th>\n",
       "      <th>count</th>\n",
       "      <th>unique</th>\n",
       "      <th>top</th>\n",
       "      <th>freq</th>\n",
       "    </tr>\n",
       "  </thead>\n",
       "  <tbody>\n",
       "    <tr>\n",
       "      <th>Agency</th>\n",
       "      <td>44328</td>\n",
       "      <td>16</td>\n",
       "      <td>EPX</td>\n",
       "      <td>24656</td>\n",
       "    </tr>\n",
       "    <tr>\n",
       "      <th>Agency Type</th>\n",
       "      <td>44328</td>\n",
       "      <td>2</td>\n",
       "      <td>Travel Agency</td>\n",
       "      <td>32113</td>\n",
       "    </tr>\n",
       "    <tr>\n",
       "      <th>Distribution Channel</th>\n",
       "      <td>44328</td>\n",
       "      <td>2</td>\n",
       "      <td>Online</td>\n",
       "      <td>43572</td>\n",
       "    </tr>\n",
       "    <tr>\n",
       "      <th>Product Name</th>\n",
       "      <td>44328</td>\n",
       "      <td>26</td>\n",
       "      <td>Cancellation Plan</td>\n",
       "      <td>12979</td>\n",
       "    </tr>\n",
       "    <tr>\n",
       "      <th>Gender</th>\n",
       "      <td>12681</td>\n",
       "      <td>2</td>\n",
       "      <td>M</td>\n",
       "      <td>6504</td>\n",
       "    </tr>\n",
       "    <tr>\n",
       "      <th>Destination</th>\n",
       "      <td>44328</td>\n",
       "      <td>138</td>\n",
       "      <td>SINGAPORE</td>\n",
       "      <td>9267</td>\n",
       "    </tr>\n",
       "    <tr>\n",
       "      <th>Claim</th>\n",
       "      <td>44328</td>\n",
       "      <td>2</td>\n",
       "      <td>No</td>\n",
       "      <td>43651</td>\n",
       "    </tr>\n",
       "  </tbody>\n",
       "</table>\n",
       "</div>"
      ],
      "text/plain": [
       "                      count unique                top   freq\n",
       "Agency                44328     16                EPX  24656\n",
       "Agency Type           44328      2      Travel Agency  32113\n",
       "Distribution Channel  44328      2             Online  43572\n",
       "Product Name          44328     26  Cancellation Plan  12979\n",
       "Gender                12681      2                  M   6504\n",
       "Destination           44328    138          SINGAPORE   9267\n",
       "Claim                 44328      2                 No  43651"
      ]
     },
     "execution_count": 6,
     "metadata": {},
     "output_type": "execute_result"
    }
   ],
   "source": [
    "df.describe(include='object').T"
   ]
  },
  {
   "cell_type": "markdown",
   "metadata": {},
   "source": [
    "Kesimpulan:\n",
    "1. Destinasinya sangat banyak 138 (very high cardinality)\n",
    "2. Product name juga banyak 26 (high cardinality)\n",
    "3. Gender banyak yang null\n"
   ]
  },
  {
   "cell_type": "code",
   "execution_count": 8,
   "metadata": {},
   "outputs": [
    {
     "data": {
      "text/plain": [
       "Agency                      0\n",
       "Agency Type                 0\n",
       "Distribution Channel        0\n",
       "Product Name                0\n",
       "Gender                  31647\n",
       "Duration                    0\n",
       "Destination                 0\n",
       "Net Sales                   0\n",
       "Commision (in value)        0\n",
       "Age                         0\n",
       "Claim                       0\n",
       "dtype: int64"
      ]
     },
     "execution_count": 8,
     "metadata": {},
     "output_type": "execute_result"
    }
   ],
   "source": [
    "#cek jumlah data null di tabel\n",
    "df.isna().sum()"
   ]
  },
  {
   "cell_type": "code",
   "execution_count": 9,
   "metadata": {},
   "outputs": [
    {
     "name": "stdout",
     "output_type": "stream",
     "text": [
      "71.393 % of the data is missing for the Gender column.\n"
     ]
    }
   ],
   "source": [
    "#cek persentase null di gender\n",
    "null_gender = df.Gender.isna().sum()/len(df.Gender)\n",
    "\n",
    "print(f\"{round(null_gender*100,3)} % of the data is missing for the Gender column.\")"
   ]
  },
  {
   "cell_type": "code",
   "execution_count": 12,
   "metadata": {},
   "outputs": [
    {
     "data": {
      "text/html": [
       "<div>\n",
       "<style scoped>\n",
       "    .dataframe tbody tr th:only-of-type {\n",
       "        vertical-align: middle;\n",
       "    }\n",
       "\n",
       "    .dataframe tbody tr th {\n",
       "        vertical-align: top;\n",
       "    }\n",
       "\n",
       "    .dataframe thead th {\n",
       "        text-align: right;\n",
       "    }\n",
       "</style>\n",
       "<table border=\"1\" class=\"dataframe\">\n",
       "  <thead>\n",
       "    <tr style=\"text-align: right;\">\n",
       "      <th></th>\n",
       "      <th>Agency</th>\n",
       "      <th>Agency Type</th>\n",
       "      <th>Distribution Channel</th>\n",
       "      <th>Product Name</th>\n",
       "      <th>Gender</th>\n",
       "      <th>Duration</th>\n",
       "      <th>Destination</th>\n",
       "      <th>Net Sales</th>\n",
       "      <th>Commision (in value)</th>\n",
       "      <th>Age</th>\n",
       "      <th>Claim</th>\n",
       "    </tr>\n",
       "  </thead>\n",
       "  <tbody>\n",
       "    <tr>\n",
       "      <th>0</th>\n",
       "      <td>C2B</td>\n",
       "      <td>Airlines</td>\n",
       "      <td>Online</td>\n",
       "      <td>Annual Silver Plan</td>\n",
       "      <td>F</td>\n",
       "      <td>365</td>\n",
       "      <td>SINGAPORE</td>\n",
       "      <td>216.0</td>\n",
       "      <td>54.0</td>\n",
       "      <td>57</td>\n",
       "      <td>No</td>\n",
       "    </tr>\n",
       "    <tr>\n",
       "      <th>1</th>\n",
       "      <td>EPX</td>\n",
       "      <td>Travel Agency</td>\n",
       "      <td>Online</td>\n",
       "      <td>Cancellation Plan</td>\n",
       "      <td>Not Specified</td>\n",
       "      <td>4</td>\n",
       "      <td>MALAYSIA</td>\n",
       "      <td>10.0</td>\n",
       "      <td>0.0</td>\n",
       "      <td>33</td>\n",
       "      <td>No</td>\n",
       "    </tr>\n",
       "    <tr>\n",
       "      <th>2</th>\n",
       "      <td>JZI</td>\n",
       "      <td>Airlines</td>\n",
       "      <td>Online</td>\n",
       "      <td>Basic Plan</td>\n",
       "      <td>M</td>\n",
       "      <td>19</td>\n",
       "      <td>INDIA</td>\n",
       "      <td>22.0</td>\n",
       "      <td>7.7</td>\n",
       "      <td>26</td>\n",
       "      <td>No</td>\n",
       "    </tr>\n",
       "    <tr>\n",
       "      <th>3</th>\n",
       "      <td>EPX</td>\n",
       "      <td>Travel Agency</td>\n",
       "      <td>Online</td>\n",
       "      <td>2 way Comprehensive Plan</td>\n",
       "      <td>Not Specified</td>\n",
       "      <td>20</td>\n",
       "      <td>UNITED STATES</td>\n",
       "      <td>112.0</td>\n",
       "      <td>0.0</td>\n",
       "      <td>59</td>\n",
       "      <td>No</td>\n",
       "    </tr>\n",
       "    <tr>\n",
       "      <th>4</th>\n",
       "      <td>C2B</td>\n",
       "      <td>Airlines</td>\n",
       "      <td>Online</td>\n",
       "      <td>Bronze Plan</td>\n",
       "      <td>M</td>\n",
       "      <td>8</td>\n",
       "      <td>SINGAPORE</td>\n",
       "      <td>16.0</td>\n",
       "      <td>4.0</td>\n",
       "      <td>28</td>\n",
       "      <td>No</td>\n",
       "    </tr>\n",
       "  </tbody>\n",
       "</table>\n",
       "</div>"
      ],
      "text/plain": [
       "  Agency    Agency Type Distribution Channel              Product Name  \\\n",
       "0    C2B       Airlines               Online        Annual Silver Plan   \n",
       "1    EPX  Travel Agency               Online         Cancellation Plan   \n",
       "2    JZI       Airlines               Online                Basic Plan   \n",
       "3    EPX  Travel Agency               Online  2 way Comprehensive Plan   \n",
       "4    C2B       Airlines               Online               Bronze Plan   \n",
       "\n",
       "          Gender  Duration    Destination  Net Sales  Commision (in value)  \\\n",
       "0              F       365      SINGAPORE      216.0                  54.0   \n",
       "1  Not Specified         4       MALAYSIA       10.0                   0.0   \n",
       "2              M        19          INDIA       22.0                   7.7   \n",
       "3  Not Specified        20  UNITED STATES      112.0                   0.0   \n",
       "4              M         8      SINGAPORE       16.0                   4.0   \n",
       "\n",
       "   Age Claim  \n",
       "0   57    No  \n",
       "1   33    No  \n",
       "2   26    No  \n",
       "3   59    No  \n",
       "4   28    No  "
      ]
     },
     "execution_count": 12,
     "metadata": {},
     "output_type": "execute_result"
    }
   ],
   "source": [
    "#data null di gender ini akan diisi dengan 'Unidentified' karena kita belum tau Gender ini penting atau engga\n",
    "#Kalo ga penting nanti tinggal di drop saja\n",
    "\n",
    "df[\"Gender\"].fillna(\"Not Specified\", inplace=True)\n",
    "df.head()"
   ]
  },
  {
   "cell_type": "code",
   "execution_count": 13,
   "metadata": {},
   "outputs": [
    {
     "name": "stdout",
     "output_type": "stream",
     "text": [
      "Number of duplicated rows: 4667\n"
     ]
    }
   ],
   "source": [
    "#cek data duplicate\n",
    "print(f\"Number of duplicated rows: {df.duplicated().sum()}\")"
   ]
  },
  {
   "cell_type": "code",
   "execution_count": 14,
   "metadata": {},
   "outputs": [
    {
     "name": "stdout",
     "output_type": "stream",
     "text": [
      "Number of duplicated rows: 0\n"
     ]
    }
   ],
   "source": [
    "#drop duplicate data\n",
    "df.drop_duplicates(inplace=True)\n",
    "print(f\"Number of duplicated rows: {df.duplicated().sum()}\")"
   ]
  },
  {
   "cell_type": "code",
   "execution_count": 18,
   "metadata": {},
   "outputs": [],
   "source": [
    "#karena kolom Claim itu kategorikal, dengan unique valuesnya 2 aja, kemungkinannya hanya Yes & No, kita bakal ubah jadi binary\n",
    "df['Claim'] = df['Claim'].apply(lambda x: 1 if x=='Yes' else 0)"
   ]
  },
  {
   "cell_type": "code",
   "execution_count": 20,
   "metadata": {},
   "outputs": [
    {
     "name": "stdout",
     "output_type": "stream",
     "text": [
      "There are 38986 Rejected claims\n",
      "There are 675 Accepted claims\n"
     ]
    },
    {
     "data": {
      "text/plain": [
       "Text(0.5, 1.0, 'Customer Claims')"
      ]
     },
     "execution_count": 20,
     "metadata": {},
     "output_type": "execute_result"
    },
    {
     "data": {
      "image/png": "[encoded data removed]",
      "text/plain": [
       "<Figure size 640x480 with 1 Axes>"
      ]
     },
     "metadata": {},
     "output_type": "display_data"
    }
   ],
   "source": [
    "#kita mau cek disini 1 berarti yes, 0 berarti no\n",
    "print(f'There are {len(df[df[\"Claim\"]==0])} Rejected claims')\n",
    "print(f'There are {len(df[df[\"Claim\"]==1])} Accepted claims')\n",
    "sns.countplot(x=df[\"Claim\"], color=color_palette[2]).set_title(\"Customer Claims\")"
   ]
  },
  {
   "cell_type": "markdown",
   "metadata": {},
   "source": [
    "Datanya imbalanced, yang berarti \"Minority class classification\""
   ]
  },
  {
   "cell_type": "markdown",
   "metadata": {},
   "source": [
    "#### Net Sales - Commission"
   ]
  },
  {
   "cell_type": "code",
   "execution_count": 25,
   "metadata": {},
   "outputs": [
    {
     "data": {
      "text/plain": [
       "0.640096191467467"
      ]
     },
     "execution_count": 25,
     "metadata": {},
     "output_type": "execute_result"
    }
   ],
   "source": [
    "#kita coba cek Net Sales & Commission, apakah berkorelasi\n",
    "df[\"Net Sales\"].corr(df[\"Commision (in value)\"])"
   ]
  },
  {
   "cell_type": "markdown",
   "metadata": {},
   "source": [
    "Nggak besar nilai korelasinya tapi jelas berkorelasi.\n",
    "Net sales nggak boleh lebih kecil dari commission, karena biasanya commission itu diwakilin dari fungsi net sales"
   ]
  },
  {
   "cell_type": "code",
   "execution_count": 26,
   "metadata": {},
   "outputs": [
    {
     "data": {
      "text/html": [
       "<div>\n",
       "<style scoped>\n",
       "    .dataframe tbody tr th:only-of-type {\n",
       "        vertical-align: middle;\n",
       "    }\n",
       "\n",
       "    .dataframe tbody tr th {\n",
       "        vertical-align: top;\n",
       "    }\n",
       "\n",
       "    .dataframe thead th {\n",
       "        text-align: right;\n",
       "    }\n",
       "</style>\n",
       "<table border=\"1\" class=\"dataframe\">\n",
       "  <thead>\n",
       "    <tr style=\"text-align: right;\">\n",
       "      <th></th>\n",
       "      <th>Agency</th>\n",
       "      <th>Agency Type</th>\n",
       "      <th>Distribution Channel</th>\n",
       "      <th>Product Name</th>\n",
       "      <th>Gender</th>\n",
       "      <th>Duration</th>\n",
       "      <th>Destination</th>\n",
       "      <th>Net Sales</th>\n",
       "      <th>Commision (in value)</th>\n",
       "      <th>Age</th>\n",
       "      <th>Claim</th>\n",
       "    </tr>\n",
       "  </thead>\n",
       "  <tbody>\n",
       "    <tr>\n",
       "      <th>13991</th>\n",
       "      <td>CWT</td>\n",
       "      <td>Travel Agency</td>\n",
       "      <td>Online</td>\n",
       "      <td>Rental Vehicle Excess Insurance</td>\n",
       "      <td>Not Specified</td>\n",
       "      <td>50</td>\n",
       "      <td>AUSTRALIA</td>\n",
       "      <td>0.0</td>\n",
       "      <td>59.40</td>\n",
       "      <td>41</td>\n",
       "      <td>0</td>\n",
       "    </tr>\n",
       "    <tr>\n",
       "      <th>26556</th>\n",
       "      <td>CWT</td>\n",
       "      <td>Travel Agency</td>\n",
       "      <td>Online</td>\n",
       "      <td>Rental Vehicle Excess Insurance</td>\n",
       "      <td>Not Specified</td>\n",
       "      <td>29</td>\n",
       "      <td>AUSTRALIA</td>\n",
       "      <td>-49.5</td>\n",
       "      <td>29.70</td>\n",
       "      <td>33</td>\n",
       "      <td>0</td>\n",
       "    </tr>\n",
       "    <tr>\n",
       "      <th>28824</th>\n",
       "      <td>CWT</td>\n",
       "      <td>Travel Agency</td>\n",
       "      <td>Online</td>\n",
       "      <td>Rental Vehicle Excess Insurance</td>\n",
       "      <td>Not Specified</td>\n",
       "      <td>34</td>\n",
       "      <td>ITALY</td>\n",
       "      <td>-69.3</td>\n",
       "      <td>41.58</td>\n",
       "      <td>49</td>\n",
       "      <td>0</td>\n",
       "    </tr>\n",
       "    <tr>\n",
       "      <th>33709</th>\n",
       "      <td>CWT</td>\n",
       "      <td>Travel Agency</td>\n",
       "      <td>Online</td>\n",
       "      <td>Rental Vehicle Excess Insurance</td>\n",
       "      <td>Not Specified</td>\n",
       "      <td>65</td>\n",
       "      <td>AUSTRALIA</td>\n",
       "      <td>0.0</td>\n",
       "      <td>53.46</td>\n",
       "      <td>37</td>\n",
       "      <td>0</td>\n",
       "    </tr>\n",
       "    <tr>\n",
       "      <th>2779</th>\n",
       "      <td>C2B</td>\n",
       "      <td>Airlines</td>\n",
       "      <td>Online</td>\n",
       "      <td>Silver Plan</td>\n",
       "      <td>F</td>\n",
       "      <td>19</td>\n",
       "      <td>SINGAPORE</td>\n",
       "      <td>0.0</td>\n",
       "      <td>18.00</td>\n",
       "      <td>44</td>\n",
       "      <td>0</td>\n",
       "    </tr>\n",
       "    <tr>\n",
       "      <th>29302</th>\n",
       "      <td>CWT</td>\n",
       "      <td>Travel Agency</td>\n",
       "      <td>Online</td>\n",
       "      <td>Rental Vehicle Excess Insurance</td>\n",
       "      <td>Not Specified</td>\n",
       "      <td>176</td>\n",
       "      <td>AUSTRALIA</td>\n",
       "      <td>-39.6</td>\n",
       "      <td>23.76</td>\n",
       "      <td>32</td>\n",
       "      <td>0</td>\n",
       "    </tr>\n",
       "    <tr>\n",
       "      <th>40713</th>\n",
       "      <td>CWT</td>\n",
       "      <td>Travel Agency</td>\n",
       "      <td>Online</td>\n",
       "      <td>Rental Vehicle Excess Insurance</td>\n",
       "      <td>Not Specified</td>\n",
       "      <td>148</td>\n",
       "      <td>NETHERLANDS</td>\n",
       "      <td>0.0</td>\n",
       "      <td>5.94</td>\n",
       "      <td>31</td>\n",
       "      <td>0</td>\n",
       "    </tr>\n",
       "    <tr>\n",
       "      <th>43350</th>\n",
       "      <td>C2B</td>\n",
       "      <td>Airlines</td>\n",
       "      <td>Online</td>\n",
       "      <td>Annual Silver Plan</td>\n",
       "      <td>M</td>\n",
       "      <td>365</td>\n",
       "      <td>SINGAPORE</td>\n",
       "      <td>-289.0</td>\n",
       "      <td>72.25</td>\n",
       "      <td>30</td>\n",
       "      <td>0</td>\n",
       "    </tr>\n",
       "    <tr>\n",
       "      <th>16355</th>\n",
       "      <td>CWT</td>\n",
       "      <td>Travel Agency</td>\n",
       "      <td>Online</td>\n",
       "      <td>Rental Vehicle Excess Insurance</td>\n",
       "      <td>Not Specified</td>\n",
       "      <td>133</td>\n",
       "      <td>UNITED KINGDOM</td>\n",
       "      <td>0.0</td>\n",
       "      <td>11.88</td>\n",
       "      <td>31</td>\n",
       "      <td>0</td>\n",
       "    </tr>\n",
       "    <tr>\n",
       "      <th>24483</th>\n",
       "      <td>JZI</td>\n",
       "      <td>Airlines</td>\n",
       "      <td>Online</td>\n",
       "      <td>Basic Plan</td>\n",
       "      <td>M</td>\n",
       "      <td>2</td>\n",
       "      <td>MALAYSIA</td>\n",
       "      <td>0.0</td>\n",
       "      <td>6.30</td>\n",
       "      <td>35</td>\n",
       "      <td>0</td>\n",
       "    </tr>\n",
       "  </tbody>\n",
       "</table>\n",
       "</div>"
      ],
      "text/plain": [
       "      Agency    Agency Type Distribution Channel  \\\n",
       "13991    CWT  Travel Agency               Online   \n",
       "26556    CWT  Travel Agency               Online   \n",
       "28824    CWT  Travel Agency               Online   \n",
       "33709    CWT  Travel Agency               Online   \n",
       "2779     C2B       Airlines               Online   \n",
       "29302    CWT  Travel Agency               Online   \n",
       "40713    CWT  Travel Agency               Online   \n",
       "43350    C2B       Airlines               Online   \n",
       "16355    CWT  Travel Agency               Online   \n",
       "24483    JZI       Airlines               Online   \n",
       "\n",
       "                          Product Name         Gender  Duration  \\\n",
       "13991  Rental Vehicle Excess Insurance  Not Specified        50   \n",
       "26556  Rental Vehicle Excess Insurance  Not Specified        29   \n",
       "28824  Rental Vehicle Excess Insurance  Not Specified        34   \n",
       "33709  Rental Vehicle Excess Insurance  Not Specified        65   \n",
       "2779                       Silver Plan              F        19   \n",
       "29302  Rental Vehicle Excess Insurance  Not Specified       176   \n",
       "40713  Rental Vehicle Excess Insurance  Not Specified       148   \n",
       "43350               Annual Silver Plan              M       365   \n",
       "16355  Rental Vehicle Excess Insurance  Not Specified       133   \n",
       "24483                       Basic Plan              M         2   \n",
       "\n",
       "          Destination  Net Sales  Commision (in value)  Age  Claim  \n",
       "13991       AUSTRALIA        0.0                 59.40   41      0  \n",
       "26556       AUSTRALIA      -49.5                 29.70   33      0  \n",
       "28824           ITALY      -69.3                 41.58   49      0  \n",
       "33709       AUSTRALIA        0.0                 53.46   37      0  \n",
       "2779        SINGAPORE        0.0                 18.00   44      0  \n",
       "29302       AUSTRALIA      -39.6                 23.76   32      0  \n",
       "40713     NETHERLANDS        0.0                  5.94   31      0  \n",
       "43350       SINGAPORE     -289.0                 72.25   30      0  \n",
       "16355  UNITED KINGDOM        0.0                 11.88   31      0  \n",
       "24483        MALAYSIA        0.0                  6.30   35      0  "
      ]
     },
     "execution_count": 26,
     "metadata": {},
     "output_type": "execute_result"
    }
   ],
   "source": [
    "#ngecek nilai sales apakah ada yang lebih kecil dari commission atau ngga\n",
    "df_sales_commision = df[df[\"Net Sales\"]<df[\"Commision (in value)\"]]\n",
    "df_sales_commision.sample(10)"
   ]
  },
  {
   "cell_type": "markdown",
   "metadata": {},
   "source": [
    "dan ternyata ada."
   ]
  },
  {
   "cell_type": "code",
   "execution_count": 27,
   "metadata": {},
   "outputs": [
    {
     "data": {
      "text/plain": [
       "<Axes: xlabel='Net Sales', ylabel='Count'>"
      ]
     },
     "execution_count": 27,
     "metadata": {},
     "output_type": "execute_result"
    },
    {
     "data": {
      "image/png": "[encoded data removed]",
      "text/plain": [
       "<Figure size 640x480 with 1 Axes>"
      ]
     },
     "metadata": {},
     "output_type": "display_data"
    }
   ],
   "source": [
    "#ngecek distribusi net sales\n",
    "sns.histplot(data=df_sales_commision, x=\"Net Sales\",binwidth=100, color=color_palette[1])"
   ]
  },
  {
   "cell_type": "code",
   "execution_count": 29,
   "metadata": {},
   "outputs": [
    {
     "name": "stdout",
     "output_type": "stream",
     "text": [
      "There are 1383 records\n",
      "1383 unclaimed insurances\n",
      "0 claimed insurances\n",
      "       Net Sales  Commision (in value)\n",
      "Claim                                 \n",
      "0      -28909.11              37336.79\n"
     ]
    }
   ],
   "source": [
    "# Asumsikan kita sudah meng-define 'df_sales_commision' DataFrame\n",
    "print(f\"There are {len(df_sales_commision)} records\")\n",
    "print(f'{len(df_sales_commision[df_sales_commision[\"Claim\"] == 0])} unclaimed insurances')\n",
    "print(f'{len(df_sales_commision[df_sales_commision[\"Claim\"] == 1])} claimed insurances')\n",
    "result = df_sales_commision.groupby(by='Claim')[[\"Net Sales\", \"Commision (in value)\"]].sum()\n",
    "print(result)\n"
   ]
  },
  {
   "cell_type": "code",
   "execution_count": 30,
   "metadata": {},
   "outputs": [],
   "source": [
    "#karena nilainya 0, kita bakal drop\n",
    "drop_netsales = list(df_sales_commision.index.values)\n",
    "df.drop(index=drop_netsales, inplace = True)"
   ]
  },
  {
   "cell_type": "markdown",
   "metadata": {},
   "source": [
    "#### Age"
   ]
  },
  {
   "cell_type": "code",
   "execution_count": 31,
   "metadata": {},
   "outputs": [
    {
     "data": {
      "text/plain": [
       "<Axes: xlabel='Age', ylabel='Count'>"
      ]
     },
     "execution_count": 31,
     "metadata": {},
     "output_type": "execute_result"
    },
    {
     "data": {
      "image/png": "[encoded data removed]",
      "text/plain": [
       "<Figure size 640x480 with 1 Axes>"
      ]
     },
     "metadata": {},
     "output_type": "display_data"
    }
   ],
   "source": [
    "sns.histplot(data=df, x=\"Age\",binwidth=10, color=color_palette[3])"
   ]
  },
  {
   "cell_type": "code",
   "execution_count": 32,
   "metadata": {},
   "outputs": [
    {
     "name": "stdout",
     "output_type": "stream",
     "text": [
      "There are 531 people over 80 in the records\n",
      "523 of them havent claimed insurances\n",
      "8 of them have claimed insurances\n"
     ]
    },
    {
     "data": {
      "text/plain": [
       "[Text(0, 0, '57'),\n",
       " Text(0, 0, '13'),\n",
       " Text(0, 0, '0'),\n",
       " Text(0, 0, '0'),\n",
       " Text(0, 0, '0'),\n",
       " Text(0, 0, '0'),\n",
       " Text(0, 0, '0'),\n",
       " Text(0, 0, '461')]"
      ]
     },
     "execution_count": 32,
     "metadata": {},
     "output_type": "execute_result"
    },
    {
     "data": {
      "image/png": "[encoded data removed]",
      "text/plain": [
       "<Figure size 640x480 with 1 Axes>"
      ]
     },
     "metadata": {},
     "output_type": "display_data"
    }
   ],
   "source": [
    "df_old = df[df['Age']>80]\n",
    "print(f\"There are {len(df_old)} people over 80 in the records\")\n",
    "\n",
    "print(f'{len(df_old[df_old[\"Claim\"]==0])} of them havent claimed insurances')\n",
    "print(f'{len(df_old[df_old[\"Claim\"]==1])} of them have claimed insurances')\n",
    "ax = sns.histplot(data=df_old, x=\"Age\",binwidth=5, color=color_palette[4])\n",
    "ax.bar_label(ax.containers[0])"
   ]
  },
  {
   "cell_type": "code",
   "execution_count": 35,
   "metadata": {},
   "outputs": [
    {
     "data": {
      "text/plain": [
       "1.387219812947385"
      ]
     },
     "execution_count": 35,
     "metadata": {},
     "output_type": "execute_result"
    }
   ],
   "source": [
    "#cek persentase orang tua\n",
    "(len(df_old)/len(df))*100"
   ]
  },
  {
   "cell_type": "markdown",
   "metadata": {},
   "source": [
    "Dari persentase keliatan bahwa jumlah orang tua itu sedikit, dan kalo dari grafik, keliatan bahwa kita nggak ada value di umur 95-115. Bisa diasumsikan kalo yang umur 120 itu salah input (nggak masuk akal juga jumlahnya). Jadi kita bakal drop yang 120"
   ]
  },
  {
   "cell_type": "code",
   "execution_count": 36,
   "metadata": {},
   "outputs": [],
   "source": [
    "df_old = df[df['Age']>115]\n",
    "df.drop(index=df_old.index.values, inplace = True)"
   ]
  },
  {
   "cell_type": "markdown",
   "metadata": {},
   "source": [
    "#### Duration"
   ]
  },
  {
   "cell_type": "code",
   "execution_count": 37,
   "metadata": {},
   "outputs": [
    {
     "data": {
      "text/plain": [
       "count    37817.000000\n",
       "mean        52.244916\n",
       "std        115.180450\n",
       "min          0.000000\n",
       "25%         10.000000\n",
       "50%         24.000000\n",
       "75%         56.000000\n",
       "max       4881.000000\n",
       "Name: Duration, dtype: float64"
      ]
     },
     "execution_count": 37,
     "metadata": {},
     "output_type": "execute_result"
    }
   ],
   "source": [
    "df['Duration'].describe().T"
   ]
  },
  {
   "cell_type": "markdown",
   "metadata": {},
   "source": [
    "Nilai minimum nya 0 hari. Travel insurance yang nilainya 0 hari itu tidak wajar"
   ]
  },
  {
   "cell_type": "code",
   "execution_count": 39,
   "metadata": {},
   "outputs": [
    {
     "name": "stdout",
     "output_type": "stream",
     "text": [
      "       Net Sales  Commision (in value)\n",
      "Claim                                 \n",
      "0         359.13                144.74\n"
     ]
    }
   ],
   "source": [
    "result = df[df['Duration'] == 0].groupby(by='Claim')[[\"Net Sales\", \"Commision (in value)\"]].sum()\n",
    "print(result)\n"
   ]
  },
  {
   "cell_type": "markdown",
   "metadata": {},
   "source": [
    "Dari sini keliatan bahwa yang durationnya 0, nilai claimnya semuanya 0 yang mana berarti claimnya di reject. Jadi kita drop saja"
   ]
  },
  {
   "cell_type": "code",
   "execution_count": 42,
   "metadata": {},
   "outputs": [
    {
     "data": {
      "text/plain": [
       "28"
      ]
     },
     "execution_count": 42,
     "metadata": {},
     "output_type": "execute_result"
    }
   ],
   "source": [
    "#cek dulu jumlahnya\n",
    "len(df[df['Duration']==0])"
   ]
  },
  {
   "cell_type": "code",
   "execution_count": 43,
   "metadata": {},
   "outputs": [],
   "source": [
    "#mari kita drop\n",
    "df.drop(index=df[df['Duration']==0].index.values, inplace = True)"
   ]
  },
  {
   "cell_type": "code",
   "execution_count": 45,
   "metadata": {},
   "outputs": [
    {
     "data": {
      "text/plain": [
       "<Axes: xlabel='Duration', ylabel='Count'>"
      ]
     },
     "execution_count": 45,
     "metadata": {},
     "output_type": "execute_result"
    },
    {
     "data": {
      "image/png": "[encoded data removed]",
      "text/plain": [
       "<Figure size 640x480 with 1 Axes>"
      ]
     },
     "metadata": {},
     "output_type": "display_data"
    }
   ],
   "source": [
    "#plot lagi\n",
    "sns.histplot(data=df, x=\"Duration\",binwidth=100, color=color_palette[4])"
   ]
  },
  {
   "cell_type": "markdown",
   "metadata": {},
   "source": [
    "Setahun ada 365 hari, kita coba cek apakah ada yang diatas 365. Agak aneh, siapa tahu outliers"
   ]
  },
  {
   "cell_type": "code",
   "execution_count": 46,
   "metadata": {},
   "outputs": [
    {
     "data": {
      "text/plain": [
       "[Text(0, 0, '849'),\n",
       " Text(0, 0, '0'),\n",
       " Text(0, 0, '0'),\n",
       " Text(0, 0, '0'),\n",
       " Text(0, 0, '0'),\n",
       " Text(0, 0, '0'),\n",
       " Text(0, 0, '0'),\n",
       " Text(0, 0, '0'),\n",
       " Text(0, 0, '12'),\n",
       " Text(0, 0, '1')]"
      ]
     },
     "execution_count": 46,
     "metadata": {},
     "output_type": "execute_result"
    },
    {
     "data": {
      "image/png": "[encoded data removed]",
      "text/plain": [
       "<Figure size 640x480 with 1 Axes>"
      ]
     },
     "metadata": {},
     "output_type": "display_data"
    }
   ],
   "source": [
    "df_duration = df[df['Duration']>365]\n",
    "ax = sns.histplot(data=df_duration, x=\"Duration\",binwidth=500, color=color_palette[4])\n",
    "ax.bar_label(ax.containers[0])"
   ]
  },
  {
   "cell_type": "markdown",
   "metadata": {},
   "source": [
    "Ada 12 yang diatas 365. Kita bakal drop ini karena kemungkinan besar data entry error"
   ]
  },
  {
   "cell_type": "code",
   "execution_count": 48,
   "metadata": {},
   "outputs": [],
   "source": [
    "df.drop(index=df[df['Duration']>400].index.values, inplace = True)"
   ]
  },
  {
   "cell_type": "markdown",
   "metadata": {},
   "source": [
    "#### Gender"
   ]
  },
  {
   "cell_type": "code",
   "execution_count": 55,
   "metadata": {},
   "outputs": [
    {
     "name": "stdout",
     "output_type": "stream",
     "text": [
      "              Gender  Duration  Net Sales  Commision (in value)  Age  Claim\n",
      "0                  F       365      216.0                 54.00   57      0\n",
      "1      Not Specified         4       10.0                  0.00   33      0\n",
      "2                  M        19       22.0                  7.70   26      0\n",
      "3      Not Specified        20      112.0                  0.00   59      0\n",
      "4                  M         8       16.0                  4.00   28      0\n",
      "...              ...       ...        ...                   ...  ...    ...\n",
      "44322  Not Specified         6       40.0                  0.00   36      0\n",
      "44323  Not Specified        14       30.0                  0.00   36      1\n",
      "44324  Not Specified        17       79.2                 47.52   47      0\n",
      "44325              M        64       30.0                 10.50   50      0\n",
      "44326  Not Specified        51       36.0                  0.00   36      0\n",
      "\n",
      "[37664 rows x 6 columns]\n"
     ]
    }
   ],
   "source": [
    "numeric_columns = df.select_dtypes(include=['int64', 'float64'])\n",
    "\n",
    "# Include the 'gender' column\n",
    "filtered_df = pd.concat([df['Gender'], numeric_columns], axis=1)\n",
    "\n",
    "# Now 'filtered_df' will only contain 'gender' and numeric columns\n",
    "print(filtered_df)"
   ]
  },
  {
   "cell_type": "code",
   "execution_count": 56,
   "metadata": {},
   "outputs": [
    {
     "data": {
      "text/html": [
       "<div>\n",
       "<style scoped>\n",
       "    .dataframe tbody tr th:only-of-type {\n",
       "        vertical-align: middle;\n",
       "    }\n",
       "\n",
       "    .dataframe tbody tr th {\n",
       "        vertical-align: top;\n",
       "    }\n",
       "\n",
       "    .dataframe thead th {\n",
       "        text-align: right;\n",
       "    }\n",
       "</style>\n",
       "<table border=\"1\" class=\"dataframe\">\n",
       "  <thead>\n",
       "    <tr style=\"text-align: right;\">\n",
       "      <th></th>\n",
       "      <th>Duration</th>\n",
       "      <th>Net Sales</th>\n",
       "      <th>Commision (in value)</th>\n",
       "      <th>Age</th>\n",
       "      <th>Claim</th>\n",
       "    </tr>\n",
       "    <tr>\n",
       "      <th>Gender</th>\n",
       "      <th></th>\n",
       "      <th></th>\n",
       "      <th></th>\n",
       "      <th></th>\n",
       "      <th></th>\n",
       "    </tr>\n",
       "  </thead>\n",
       "  <tbody>\n",
       "    <tr>\n",
       "      <th>F</th>\n",
       "      <td>72.008991</td>\n",
       "      <td>59.309942</td>\n",
       "      <td>17.700464</td>\n",
       "      <td>40.534256</td>\n",
       "      <td>0.044416</td>\n",
       "    </tr>\n",
       "    <tr>\n",
       "      <th>M</th>\n",
       "      <td>60.439271</td>\n",
       "      <td>56.420666</td>\n",
       "      <td>17.368360</td>\n",
       "      <td>42.203258</td>\n",
       "      <td>0.038244</td>\n",
       "    </tr>\n",
       "    <tr>\n",
       "      <th>Not Specified</th>\n",
       "      <td>42.486411</td>\n",
       "      <td>38.053792</td>\n",
       "      <td>6.068498</td>\n",
       "      <td>37.951956</td>\n",
       "      <td>0.007560</td>\n",
       "    </tr>\n",
       "  </tbody>\n",
       "</table>\n",
       "</div>"
      ],
      "text/plain": [
       "                Duration  Net Sales  Commision (in value)        Age     Claim\n",
       "Gender                                                                        \n",
       "F              72.008991  59.309942             17.700464  40.534256  0.044416\n",
       "M              60.439271  56.420666             17.368360  42.203258  0.038244\n",
       "Not Specified  42.486411  38.053792              6.068498  37.951956  0.007560"
      ]
     },
     "execution_count": 56,
     "metadata": {},
     "output_type": "execute_result"
    }
   ],
   "source": [
    "filtered_df.groupby(by='Gender').mean()"
   ]
  },
  {
   "cell_type": "code",
   "execution_count": 57,
   "metadata": {},
   "outputs": [
    {
     "data": {
      "text/html": [
       "<div>\n",
       "<style scoped>\n",
       "    .dataframe tbody tr th:only-of-type {\n",
       "        vertical-align: middle;\n",
       "    }\n",
       "\n",
       "    .dataframe tbody tr th {\n",
       "        vertical-align: top;\n",
       "    }\n",
       "\n",
       "    .dataframe thead th {\n",
       "        text-align: right;\n",
       "    }\n",
       "</style>\n",
       "<table border=\"1\" class=\"dataframe\">\n",
       "  <thead>\n",
       "    <tr style=\"text-align: right;\">\n",
       "      <th></th>\n",
       "      <th>Gender</th>\n",
       "      <th>F</th>\n",
       "      <th>M</th>\n",
       "      <th>Not Specified</th>\n",
       "    </tr>\n",
       "  </thead>\n",
       "  <tbody>\n",
       "    <tr>\n",
       "      <th rowspan=\"8\" valign=\"top\">Duration</th>\n",
       "      <th>count</th>\n",
       "      <td>5561.000000</td>\n",
       "      <td>5648.000000</td>\n",
       "      <td>26455.000000</td>\n",
       "    </tr>\n",
       "    <tr>\n",
       "      <th>mean</th>\n",
       "      <td>72.008991</td>\n",
       "      <td>60.439271</td>\n",
       "      <td>42.486411</td>\n",
       "    </tr>\n",
       "    <tr>\n",
       "      <th>std</th>\n",
       "      <td>110.463707</td>\n",
       "      <td>104.908703</td>\n",
       "      <td>48.279412</td>\n",
       "    </tr>\n",
       "    <tr>\n",
       "      <th>min</th>\n",
       "      <td>1.000000</td>\n",
       "      <td>1.000000</td>\n",
       "      <td>1.000000</td>\n",
       "    </tr>\n",
       "    <tr>\n",
       "      <th>25%</th>\n",
       "      <td>11.000000</td>\n",
       "      <td>9.000000</td>\n",
       "      <td>11.000000</td>\n",
       "    </tr>\n",
       "    <tr>\n",
       "      <th>50%</th>\n",
       "      <td>25.000000</td>\n",
       "      <td>18.000000</td>\n",
       "      <td>26.000000</td>\n",
       "    </tr>\n",
       "    <tr>\n",
       "      <th>75%</th>\n",
       "      <td>66.000000</td>\n",
       "      <td>48.000000</td>\n",
       "      <td>55.000000</td>\n",
       "    </tr>\n",
       "    <tr>\n",
       "      <th>max</th>\n",
       "      <td>400.000000</td>\n",
       "      <td>400.000000</td>\n",
       "      <td>342.000000</td>\n",
       "    </tr>\n",
       "    <tr>\n",
       "      <th rowspan=\"8\" valign=\"top\">Net Sales</th>\n",
       "      <th>count</th>\n",
       "      <td>5561.000000</td>\n",
       "      <td>5648.000000</td>\n",
       "      <td>26455.000000</td>\n",
       "    </tr>\n",
       "    <tr>\n",
       "      <th>mean</th>\n",
       "      <td>59.309942</td>\n",
       "      <td>56.420666</td>\n",
       "      <td>38.053792</td>\n",
       "    </tr>\n",
       "    <tr>\n",
       "      <th>std</th>\n",
       "      <td>71.898358</td>\n",
       "      <td>72.290750</td>\n",
       "      <td>30.178229</td>\n",
       "    </tr>\n",
       "    <tr>\n",
       "      <th>min</th>\n",
       "      <td>1.550000</td>\n",
       "      <td>2.380000</td>\n",
       "      <td>0.000000</td>\n",
       "    </tr>\n",
       "    <tr>\n",
       "      <th>25%</th>\n",
       "      <td>22.000000</td>\n",
       "      <td>22.000000</td>\n",
       "      <td>19.000000</td>\n",
       "    </tr>\n",
       "    <tr>\n",
       "      <th>50%</th>\n",
       "      <td>30.000000</td>\n",
       "      <td>29.000000</td>\n",
       "      <td>28.000000</td>\n",
       "    </tr>\n",
       "    <tr>\n",
       "      <th>75%</th>\n",
       "      <td>56.700000</td>\n",
       "      <td>50.500000</td>\n",
       "      <td>50.000000</td>\n",
       "    </tr>\n",
       "    <tr>\n",
       "      <th>max</th>\n",
       "      <td>666.000000</td>\n",
       "      <td>682.000000</td>\n",
       "      <td>306.900000</td>\n",
       "    </tr>\n",
       "    <tr>\n",
       "      <th rowspan=\"8\" valign=\"top\">Commision (in value)</th>\n",
       "      <th>count</th>\n",
       "      <td>5561.000000</td>\n",
       "      <td>5648.000000</td>\n",
       "      <td>26455.000000</td>\n",
       "    </tr>\n",
       "    <tr>\n",
       "      <th>mean</th>\n",
       "      <td>17.700464</td>\n",
       "      <td>17.368360</td>\n",
       "      <td>6.068498</td>\n",
       "    </tr>\n",
       "    <tr>\n",
       "      <th>std</th>\n",
       "      <td>23.112815</td>\n",
       "      <td>24.444321</td>\n",
       "      <td>15.804590</td>\n",
       "    </tr>\n",
       "    <tr>\n",
       "      <th>min</th>\n",
       "      <td>0.000000</td>\n",
       "      <td>0.000000</td>\n",
       "      <td>0.000000</td>\n",
       "    </tr>\n",
       "    <tr>\n",
       "      <th>25%</th>\n",
       "      <td>6.380000</td>\n",
       "      <td>6.300000</td>\n",
       "      <td>0.000000</td>\n",
       "    </tr>\n",
       "    <tr>\n",
       "      <th>50%</th>\n",
       "      <td>9.750000</td>\n",
       "      <td>9.100000</td>\n",
       "      <td>0.000000</td>\n",
       "    </tr>\n",
       "    <tr>\n",
       "      <th>75%</th>\n",
       "      <td>15.880000</td>\n",
       "      <td>15.750000</td>\n",
       "      <td>0.000000</td>\n",
       "    </tr>\n",
       "    <tr>\n",
       "      <th>max</th>\n",
       "      <td>262.760000</td>\n",
       "      <td>262.760000</td>\n",
       "      <td>184.140000</td>\n",
       "    </tr>\n",
       "    <tr>\n",
       "      <th rowspan=\"8\" valign=\"top\">Age</th>\n",
       "      <th>count</th>\n",
       "      <td>5561.000000</td>\n",
       "      <td>5648.000000</td>\n",
       "      <td>26455.000000</td>\n",
       "    </tr>\n",
       "    <tr>\n",
       "      <th>mean</th>\n",
       "      <td>40.534256</td>\n",
       "      <td>42.203258</td>\n",
       "      <td>37.951956</td>\n",
       "    </tr>\n",
       "    <tr>\n",
       "      <th>std</th>\n",
       "      <td>13.973277</td>\n",
       "      <td>13.420134</td>\n",
       "      <td>8.467568</td>\n",
       "    </tr>\n",
       "    <tr>\n",
       "      <th>min</th>\n",
       "      <td>0.000000</td>\n",
       "      <td>1.000000</td>\n",
       "      <td>13.000000</td>\n",
       "    </tr>\n",
       "    <tr>\n",
       "      <th>25%</th>\n",
       "      <td>30.000000</td>\n",
       "      <td>31.000000</td>\n",
       "      <td>36.000000</td>\n",
       "    </tr>\n",
       "    <tr>\n",
       "      <th>50%</th>\n",
       "      <td>37.000000</td>\n",
       "      <td>41.000000</td>\n",
       "      <td>36.000000</td>\n",
       "    </tr>\n",
       "    <tr>\n",
       "      <th>75%</th>\n",
       "      <td>49.000000</td>\n",
       "      <td>51.000000</td>\n",
       "      <td>38.000000</td>\n",
       "    </tr>\n",
       "    <tr>\n",
       "      <th>max</th>\n",
       "      <td>88.000000</td>\n",
       "      <td>87.000000</td>\n",
       "      <td>86.000000</td>\n",
       "    </tr>\n",
       "    <tr>\n",
       "      <th rowspan=\"8\" valign=\"top\">Claim</th>\n",
       "      <th>count</th>\n",
       "      <td>5561.000000</td>\n",
       "      <td>5648.000000</td>\n",
       "      <td>26455.000000</td>\n",
       "    </tr>\n",
       "    <tr>\n",
       "      <th>mean</th>\n",
       "      <td>0.044416</td>\n",
       "      <td>0.038244</td>\n",
       "      <td>0.007560</td>\n",
       "    </tr>\n",
       "    <tr>\n",
       "      <th>std</th>\n",
       "      <td>0.206037</td>\n",
       "      <td>0.191801</td>\n",
       "      <td>0.086621</td>\n",
       "    </tr>\n",
       "    <tr>\n",
       "      <th>min</th>\n",
       "      <td>0.000000</td>\n",
       "      <td>0.000000</td>\n",
       "      <td>0.000000</td>\n",
       "    </tr>\n",
       "    <tr>\n",
       "      <th>25%</th>\n",
       "      <td>0.000000</td>\n",
       "      <td>0.000000</td>\n",
       "      <td>0.000000</td>\n",
       "    </tr>\n",
       "    <tr>\n",
       "      <th>50%</th>\n",
       "      <td>0.000000</td>\n",
       "      <td>0.000000</td>\n",
       "      <td>0.000000</td>\n",
       "    </tr>\n",
       "    <tr>\n",
       "      <th>75%</th>\n",
       "      <td>0.000000</td>\n",
       "      <td>0.000000</td>\n",
       "      <td>0.000000</td>\n",
       "    </tr>\n",
       "    <tr>\n",
       "      <th>max</th>\n",
       "      <td>1.000000</td>\n",
       "      <td>1.000000</td>\n",
       "      <td>1.000000</td>\n",
       "    </tr>\n",
       "  </tbody>\n",
       "</table>\n",
       "</div>"
      ],
      "text/plain": [
       "Gender                                F            M  Not Specified\n",
       "Duration             count  5561.000000  5648.000000   26455.000000\n",
       "                     mean     72.008991    60.439271      42.486411\n",
       "                     std     110.463707   104.908703      48.279412\n",
       "                     min       1.000000     1.000000       1.000000\n",
       "                     25%      11.000000     9.000000      11.000000\n",
       "                     50%      25.000000    18.000000      26.000000\n",
       "                     75%      66.000000    48.000000      55.000000\n",
       "                     max     400.000000   400.000000     342.000000\n",
       "Net Sales            count  5561.000000  5648.000000   26455.000000\n",
       "                     mean     59.309942    56.420666      38.053792\n",
       "                     std      71.898358    72.290750      30.178229\n",
       "                     min       1.550000     2.380000       0.000000\n",
       "                     25%      22.000000    22.000000      19.000000\n",
       "                     50%      30.000000    29.000000      28.000000\n",
       "                     75%      56.700000    50.500000      50.000000\n",
       "                     max     666.000000   682.000000     306.900000\n",
       "Commision (in value) count  5561.000000  5648.000000   26455.000000\n",
       "                     mean     17.700464    17.368360       6.068498\n",
       "                     std      23.112815    24.444321      15.804590\n",
       "                     min       0.000000     0.000000       0.000000\n",
       "                     25%       6.380000     6.300000       0.000000\n",
       "                     50%       9.750000     9.100000       0.000000\n",
       "                     75%      15.880000    15.750000       0.000000\n",
       "                     max     262.760000   262.760000     184.140000\n",
       "Age                  count  5561.000000  5648.000000   26455.000000\n",
       "                     mean     40.534256    42.203258      37.951956\n",
       "                     std      13.973277    13.420134       8.467568\n",
       "                     min       0.000000     1.000000      13.000000\n",
       "                     25%      30.000000    31.000000      36.000000\n",
       "                     50%      37.000000    41.000000      36.000000\n",
       "                     75%      49.000000    51.000000      38.000000\n",
       "                     max      88.000000    87.000000      86.000000\n",
       "Claim                count  5561.000000  5648.000000   26455.000000\n",
       "                     mean      0.044416     0.038244       0.007560\n",
       "                     std       0.206037     0.191801       0.086621\n",
       "                     min       0.000000     0.000000       0.000000\n",
       "                     25%       0.000000     0.000000       0.000000\n",
       "                     50%       0.000000     0.000000       0.000000\n",
       "                     75%       0.000000     0.000000       0.000000\n",
       "                     max       1.000000     1.000000       1.000000"
      ]
     },
     "execution_count": 57,
     "metadata": {},
     "output_type": "execute_result"
    }
   ],
   "source": [
    "filtered_df.groupby(by='Gender').describe().T"
   ]
  },
  {
   "cell_type": "markdown",
   "metadata": {},
   "source": [
    "Tidak ada perbedaan signifikan di gender untuk claim dan fitur lain. Kita bakal drop gender di dataframe utama (df)"
   ]
  },
  {
   "cell_type": "code",
   "execution_count": 58,
   "metadata": {},
   "outputs": [],
   "source": [
    "df.drop('Gender', axis=1, inplace = True)"
   ]
  },
  {
   "cell_type": "markdown",
   "metadata": {},
   "source": [
    "#### Destination"
   ]
  },
  {
   "cell_type": "markdown",
   "metadata": {},
   "source": [
    "Karena tadi di kolom destination cardinalitynya tinggi, kita bakal coba pakai prinsip Pareto untuk mengurangi cardinality"
   ]
  },
  {
   "cell_type": "code",
   "execution_count": 59,
   "metadata": {},
   "outputs": [
    {
     "data": {
      "text/plain": [
       "array(['SINGAPORE', 'MALAYSIA', 'INDIA', 'UNITED STATES',\n",
       "       'KOREA, REPUBLIC OF', 'THAILAND', 'GERMANY', 'JAPAN', 'INDONESIA',\n",
       "       'VIET NAM', 'AUSTRALIA', 'FINLAND', 'UNITED KINGDOM', 'SRI LANKA',\n",
       "       'SPAIN', 'HONG KONG', 'MACAO', 'CHINA',\n",
       "       'IRAN, ISLAMIC REPUBLIC OF', 'TAIWAN, PROVINCE OF CHINA', 'POLAND',\n",
       "       'CANADA', 'OMAN', 'PHILIPPINES', 'GREECE', 'BELGIUM', 'TURKEY',\n",
       "       'BRUNEI DARUSSALAM', 'DENMARK', 'SWITZERLAND', 'SWEDEN', 'MYANMAR',\n",
       "       'KENYA', 'CZECH REPUBLIC', 'FRANCE', 'RUSSIAN FEDERATION',\n",
       "       'PAKISTAN', 'ARGENTINA', 'TANZANIA, UNITED REPUBLIC OF', 'SERBIA',\n",
       "       'ITALY', 'CROATIA', 'NEW ZEALAND', 'UNITED ARAB EMIRATES',\n",
       "       'NETHERLANDS', 'PERU', 'MONGOLIA', 'CAMBODIA', 'QATAR', 'NORWAY',\n",
       "       'LUXEMBOURG', 'MALTA', \"LAO PEOPLE'S DEMOCRATIC REPUBLIC\",\n",
       "       'ISRAEL', 'SAUDI ARABIA', 'AUSTRIA', 'PORTUGAL', 'UKRAINE',\n",
       "       'ESTONIA', 'ICELAND', 'BRAZIL', 'MEXICO', 'CAYMAN ISLANDS',\n",
       "       'PANAMA', 'BANGLADESH', 'TURKMENISTAN', 'BAHRAIN', 'KAZAKHSTAN',\n",
       "       'TUNISIA', 'IRELAND', 'ETHIOPIA', 'NORTHERN MARIANA ISLANDS',\n",
       "       'MALDIVES', 'VENEZUELA', 'NEPAL', 'SOUTH AFRICA', 'COSTA RICA',\n",
       "       'JORDAN', 'MALI', 'CYPRUS', 'MAURITIUS', 'LEBANON', 'KUWAIT',\n",
       "       'AZERBAIJAN', 'HUNGARY', 'BHUTAN', 'MOROCCO', 'ECUADOR',\n",
       "       'UZBEKISTAN', 'CHILE', 'FIJI', 'PAPUA NEW GUINEA',\n",
       "       'FRENCH POLYNESIA', 'NIGERIA',\n",
       "       'MACEDONIA, THE FORMER YUGOSLAV REPUBLIC OF', 'NAMIBIA', 'GEORGIA',\n",
       "       'COLOMBIA', 'SLOVENIA', 'EGYPT', 'ZIMBABWE', 'BULGARIA', 'BERMUDA',\n",
       "       'URUGUAY', 'GUINEA', 'GHANA', 'BOLIVIA', 'TRINIDAD AND TOBAGO',\n",
       "       'VANUATU', 'GUAM', 'UGANDA', 'JAMAICA', 'ROMANIA',\n",
       "       'REPUBLIC OF MONTENEGRO', 'KYRGYZSTAN', 'GUADELOUPE', 'RWANDA',\n",
       "       'BOTSWANA', 'ZAMBIA', 'GUYANA', 'LITHUANIA', 'GUINEA-BISSAU',\n",
       "       'SENEGAL', 'CAMEROON', 'SAMOA', 'PUERTO RICO', 'TAJIKISTAN',\n",
       "       'BELARUS', 'ARMENIA', 'FAROE ISLANDS', 'DOMINICAN REPUBLIC',\n",
       "       'MOLDOVA, REPUBLIC OF', 'BENIN', 'REUNION'], dtype=object)"
      ]
     },
     "execution_count": 59,
     "metadata": {},
     "output_type": "execute_result"
    }
   ],
   "source": [
    "df['Destination'].unique()"
   ]
  },
  {
   "cell_type": "code",
   "execution_count": 60,
   "metadata": {},
   "outputs": [
    {
     "data": {
      "text/html": [
       "<div>\n",
       "<style scoped>\n",
       "    .dataframe tbody tr th:only-of-type {\n",
       "        vertical-align: middle;\n",
       "    }\n",
       "\n",
       "    .dataframe tbody tr th {\n",
       "        vertical-align: top;\n",
       "    }\n",
       "\n",
       "    .dataframe thead th {\n",
       "        text-align: right;\n",
       "    }\n",
       "</style>\n",
       "<table border=\"1\" class=\"dataframe\">\n",
       "  <thead>\n",
       "    <tr style=\"text-align: right;\">\n",
       "      <th>Claim</th>\n",
       "      <th>0</th>\n",
       "      <th>1</th>\n",
       "    </tr>\n",
       "    <tr>\n",
       "      <th>Destination</th>\n",
       "      <th></th>\n",
       "      <th></th>\n",
       "    </tr>\n",
       "  </thead>\n",
       "  <tbody>\n",
       "    <tr>\n",
       "      <th>SINGAPORE</th>\n",
       "      <td>7580</td>\n",
       "      <td>411</td>\n",
       "    </tr>\n",
       "    <tr>\n",
       "      <th>THAILAND</th>\n",
       "      <td>3548</td>\n",
       "      <td>23</td>\n",
       "    </tr>\n",
       "    <tr>\n",
       "      <th>MALAYSIA</th>\n",
       "      <td>2984</td>\n",
       "      <td>16</td>\n",
       "    </tr>\n",
       "    <tr>\n",
       "      <th>CHINA</th>\n",
       "      <td>2853</td>\n",
       "      <td>32</td>\n",
       "    </tr>\n",
       "    <tr>\n",
       "      <th>AUSTRALIA</th>\n",
       "      <td>2163</td>\n",
       "      <td>29</td>\n",
       "    </tr>\n",
       "    <tr>\n",
       "      <th>INDONESIA</th>\n",
       "      <td>2006</td>\n",
       "      <td>10</td>\n",
       "    </tr>\n",
       "    <tr>\n",
       "      <th>UNITED STATES</th>\n",
       "      <td>1600</td>\n",
       "      <td>28</td>\n",
       "    </tr>\n",
       "    <tr>\n",
       "      <th>HONG KONG</th>\n",
       "      <td>1540</td>\n",
       "      <td>8</td>\n",
       "    </tr>\n",
       "    <tr>\n",
       "      <th>PHILIPPINES</th>\n",
       "      <td>1431</td>\n",
       "      <td>6</td>\n",
       "    </tr>\n",
       "    <tr>\n",
       "      <th>JAPAN</th>\n",
       "      <td>1330</td>\n",
       "      <td>11</td>\n",
       "    </tr>\n",
       "    <tr>\n",
       "      <th>VIET NAM</th>\n",
       "      <td>982</td>\n",
       "      <td>9</td>\n",
       "    </tr>\n",
       "    <tr>\n",
       "      <th>KOREA, REPUBLIC OF</th>\n",
       "      <td>967</td>\n",
       "      <td>12</td>\n",
       "    </tr>\n",
       "    <tr>\n",
       "      <th>INDIA</th>\n",
       "      <td>933</td>\n",
       "      <td>3</td>\n",
       "    </tr>\n",
       "    <tr>\n",
       "      <th>UNITED KINGDOM</th>\n",
       "      <td>805</td>\n",
       "      <td>13</td>\n",
       "    </tr>\n",
       "    <tr>\n",
       "      <th>TAIWAN, PROVINCE OF CHINA</th>\n",
       "      <td>716</td>\n",
       "      <td>5</td>\n",
       "    </tr>\n",
       "    <tr>\n",
       "      <th>BRUNEI DARUSSALAM</th>\n",
       "      <td>495</td>\n",
       "      <td>1</td>\n",
       "    </tr>\n",
       "    <tr>\n",
       "      <th>MYANMAR</th>\n",
       "      <td>479</td>\n",
       "      <td>1</td>\n",
       "    </tr>\n",
       "    <tr>\n",
       "      <th>CANADA</th>\n",
       "      <td>337</td>\n",
       "      <td>4</td>\n",
       "    </tr>\n",
       "    <tr>\n",
       "      <th>NEW ZEALAND</th>\n",
       "      <td>328</td>\n",
       "      <td>4</td>\n",
       "    </tr>\n",
       "    <tr>\n",
       "      <th>CAMBODIA</th>\n",
       "      <td>305</td>\n",
       "      <td>0</td>\n",
       "    </tr>\n",
       "  </tbody>\n",
       "</table>\n",
       "</div>"
      ],
      "text/plain": [
       "Claim                         0    1\n",
       "Destination                         \n",
       "SINGAPORE                  7580  411\n",
       "THAILAND                   3548   23\n",
       "MALAYSIA                   2984   16\n",
       "CHINA                      2853   32\n",
       "AUSTRALIA                  2163   29\n",
       "INDONESIA                  2006   10\n",
       "UNITED STATES              1600   28\n",
       "HONG KONG                  1540    8\n",
       "PHILIPPINES                1431    6\n",
       "JAPAN                      1330   11\n",
       "VIET NAM                    982    9\n",
       "KOREA, REPUBLIC OF          967   12\n",
       "INDIA                       933    3\n",
       "UNITED KINGDOM              805   13\n",
       "TAIWAN, PROVINCE OF CHINA   716    5\n",
       "BRUNEI DARUSSALAM           495    1\n",
       "MYANMAR                     479    1\n",
       "CANADA                      337    4\n",
       "NEW ZEALAND                 328    4\n",
       "CAMBODIA                    305    0"
      ]
     },
     "execution_count": 60,
     "metadata": {},
     "output_type": "execute_result"
    }
   ],
   "source": [
    "#pakai crosstab function buat liat destination mana yang claimnya lebih banyak oke in\n",
    "destinations=pd.crosstab(df[\"Destination\"],df[\"Claim\"]).sort_values(by=0, ascending = False)\n",
    "destinations.head(20)"
   ]
  },
  {
   "cell_type": "code",
   "execution_count": 61,
   "metadata": {},
   "outputs": [
    {
     "data": {
      "text/html": [
       "<div>\n",
       "<style scoped>\n",
       "    .dataframe tbody tr th:only-of-type {\n",
       "        vertical-align: middle;\n",
       "    }\n",
       "\n",
       "    .dataframe tbody tr th {\n",
       "        vertical-align: top;\n",
       "    }\n",
       "\n",
       "    .dataframe thead th {\n",
       "        text-align: right;\n",
       "    }\n",
       "</style>\n",
       "<table border=\"1\" class=\"dataframe\">\n",
       "  <thead>\n",
       "    <tr style=\"text-align: right;\">\n",
       "      <th></th>\n",
       "      <th>count</th>\n",
       "      <th>mean</th>\n",
       "      <th>std</th>\n",
       "      <th>min</th>\n",
       "      <th>25%</th>\n",
       "      <th>50%</th>\n",
       "      <th>75%</th>\n",
       "      <th>max</th>\n",
       "    </tr>\n",
       "    <tr>\n",
       "      <th>Claim</th>\n",
       "      <th></th>\n",
       "      <th></th>\n",
       "      <th></th>\n",
       "      <th></th>\n",
       "      <th></th>\n",
       "      <th></th>\n",
       "      <th></th>\n",
       "      <th></th>\n",
       "    </tr>\n",
       "  </thead>\n",
       "  <tbody>\n",
       "    <tr>\n",
       "      <th>0</th>\n",
       "      <td>134.0</td>\n",
       "      <td>276.126866</td>\n",
       "      <td>865.203504</td>\n",
       "      <td>1.0</td>\n",
       "      <td>2.0</td>\n",
       "      <td>10.0</td>\n",
       "      <td>69.5</td>\n",
       "      <td>7580.0</td>\n",
       "    </tr>\n",
       "    <tr>\n",
       "      <th>1</th>\n",
       "      <td>134.0</td>\n",
       "      <td>4.947761</td>\n",
       "      <td>35.750454</td>\n",
       "      <td>0.0</td>\n",
       "      <td>0.0</td>\n",
       "      <td>0.0</td>\n",
       "      <td>1.0</td>\n",
       "      <td>411.0</td>\n",
       "    </tr>\n",
       "  </tbody>\n",
       "</table>\n",
       "</div>"
      ],
      "text/plain": [
       "       count        mean         std  min  25%   50%   75%     max\n",
       "Claim                                                             \n",
       "0      134.0  276.126866  865.203504  1.0  2.0  10.0  69.5  7580.0\n",
       "1      134.0    4.947761   35.750454  0.0  0.0   0.0   1.0   411.0"
      ]
     },
     "execution_count": 61,
     "metadata": {},
     "output_type": "execute_result"
    }
   ],
   "source": [
    "destinations.describe().T"
   ]
  },
  {
   "cell_type": "code",
   "execution_count": 62,
   "metadata": {},
   "outputs": [
    {
     "data": {
      "text/html": [
       "<div>\n",
       "<style scoped>\n",
       "    .dataframe tbody tr th:only-of-type {\n",
       "        vertical-align: middle;\n",
       "    }\n",
       "\n",
       "    .dataframe tbody tr th {\n",
       "        vertical-align: top;\n",
       "    }\n",
       "\n",
       "    .dataframe thead th {\n",
       "        text-align: right;\n",
       "    }\n",
       "</style>\n",
       "<table border=\"1\" class=\"dataframe\">\n",
       "  <thead>\n",
       "    <tr style=\"text-align: right;\">\n",
       "      <th>Claim</th>\n",
       "      <th>0</th>\n",
       "      <th>1</th>\n",
       "      <th>Total_Claim</th>\n",
       "    </tr>\n",
       "    <tr>\n",
       "      <th>Destination</th>\n",
       "      <th></th>\n",
       "      <th></th>\n",
       "      <th></th>\n",
       "    </tr>\n",
       "  </thead>\n",
       "  <tbody>\n",
       "    <tr>\n",
       "      <th>SINGAPORE</th>\n",
       "      <td>7580</td>\n",
       "      <td>411</td>\n",
       "      <td>7991</td>\n",
       "    </tr>\n",
       "    <tr>\n",
       "      <th>THAILAND</th>\n",
       "      <td>3548</td>\n",
       "      <td>23</td>\n",
       "      <td>3571</td>\n",
       "    </tr>\n",
       "    <tr>\n",
       "      <th>MALAYSIA</th>\n",
       "      <td>2984</td>\n",
       "      <td>16</td>\n",
       "      <td>3000</td>\n",
       "    </tr>\n",
       "    <tr>\n",
       "      <th>CHINA</th>\n",
       "      <td>2853</td>\n",
       "      <td>32</td>\n",
       "      <td>2885</td>\n",
       "    </tr>\n",
       "    <tr>\n",
       "      <th>AUSTRALIA</th>\n",
       "      <td>2163</td>\n",
       "      <td>29</td>\n",
       "      <td>2192</td>\n",
       "    </tr>\n",
       "  </tbody>\n",
       "</table>\n",
       "</div>"
      ],
      "text/plain": [
       "Claim           0    1  Total_Claim\n",
       "Destination                        \n",
       "SINGAPORE    7580  411         7991\n",
       "THAILAND     3548   23         3571\n",
       "MALAYSIA     2984   16         3000\n",
       "CHINA        2853   32         2885\n",
       "AUSTRALIA    2163   29         2192"
      ]
     },
     "execution_count": 62,
     "metadata": {},
     "output_type": "execute_result"
    }
   ],
   "source": [
    "#prinsip pareto\n",
    "destinations[\"Total_Claim\"] = destinations[0] + destinations[1]\n",
    "destinations.head()"
   ]
  },
  {
   "cell_type": "code",
   "execution_count": 63,
   "metadata": {},
   "outputs": [],
   "source": [
    "destinations[\"Cum_Percentage\"] = round(destinations[\"Total_Claim\"].cumsum()/destinations[\"Total_Claim\"].sum()*100,2)"
   ]
  },
  {
   "cell_type": "code",
   "execution_count": 64,
   "metadata": {},
   "outputs": [],
   "source": [
    "top_destinations = destinations.sort_values(by = \"Total_Claim\", ascending = False).head(50) "
   ]
  },
  {
   "cell_type": "code",
   "execution_count": 69,
   "metadata": {},
   "outputs": [
    {
     "data": {
      "text/plain": [
       "Text(0, 0.5, 'Cumulative Percentage')"
      ]
     },
     "execution_count": 69,
     "metadata": {},
     "output_type": "execute_result"
    },
    {
     "data": {
      "image/png": "[encoded data removed]",
      "text/plain": [
       "<Figure size 2200x1000 with 2 Axes>"
      ]
     },
     "metadata": {},
     "output_type": "display_data"
    }
   ],
   "source": [
    "# Set figure and axis\n",
    "fig, ax = plt.subplots(figsize=(22,10))\n",
    "\n",
    "# Plot bars (i.e. frequencies)\n",
    "ax.bar(top_destinations.index, top_destinations[\"Total_Claim\"],color=color_palette[2])\n",
    "ax.set_title(\"Pareto Chart\")\n",
    "ax.set_xlabel(\"Destination\")\n",
    "ax.set_ylabel(\"Frequency\")\n",
    "plt.xticks(rotation=90)\n",
    "\n",
    "# Second y axis (i.e. cumulative percentage)\n",
    "ax2 = ax.twinx()\n",
    "ax2.plot(top_destinations.index, top_destinations[\"Cum_Percentage\"], color=\"red\", marker=\"D\", ms=7)\n",
    "ax2.axhline(80, color=dark_color[2], linestyle=\"dashed\")\n",
    "ax2.yaxis.set_major_formatter(PercentFormatter())\n",
    "ax2.set_ylabel(\"Cumulative Percentage\")"
   ]
  },
  {
   "cell_type": "markdown",
   "metadata": {},
   "source": [
    "Dari pareto chart, keliatan dia crossing di India."
   ]
  },
  {
   "cell_type": "code",
   "execution_count": 72,
   "metadata": {},
   "outputs": [
    {
     "data": {
      "text/plain": [
       "array(['SINGAPORE', 'THAILAND', 'MALAYSIA', 'CHINA', 'AUSTRALIA',\n",
       "       'INDONESIA', 'UNITED STATES', 'HONG KONG', 'PHILIPPINES', 'JAPAN',\n",
       "       'VIET NAM', 'KOREA, REPUBLIC OF', 'INDIA'], dtype=object)"
      ]
     },
     "execution_count": 72,
     "metadata": {},
     "output_type": "execute_result"
    }
   ],
   "source": [
    "destinations_to_grp = top_destinations.index[:13].values\n",
    "destinations_to_grp"
   ]
  },
  {
   "cell_type": "code",
   "execution_count": 71,
   "metadata": {},
   "outputs": [
    {
     "data": {
      "text/plain": [
       "array(['SINGAPORE', 'MALAYSIA', 'INDIA', 'UNITED STATES',\n",
       "       'KOREA, REPUBLIC OF', 'THAILAND', 'Other_Destination', 'JAPAN',\n",
       "       'INDONESIA', 'VIET NAM', 'AUSTRALIA', 'HONG KONG', 'CHINA',\n",
       "       'PHILIPPINES'], dtype=object)"
      ]
     },
     "execution_count": 71,
     "metadata": {},
     "output_type": "execute_result"
    }
   ],
   "source": [
    "df['Destination'] = df['Destination'].apply(lambda x: 'Other_Destination' if x not in destinations_to_grp else x)\n",
    "df['Destination'].unique()"
   ]
  },
  {
   "cell_type": "markdown",
   "metadata": {},
   "source": [
    "#### Product Name"
   ]
  },
  {
   "cell_type": "code",
   "execution_count": 73,
   "metadata": {},
   "outputs": [
    {
     "data": {
      "text/plain": [
       "array(['Annual Silver Plan', 'Cancellation Plan', 'Basic Plan',\n",
       "       '2 way Comprehensive Plan', 'Bronze Plan',\n",
       "       '1 way Comprehensive Plan', 'Rental Vehicle Excess Insurance',\n",
       "       'Single Trip Travel Protect Gold', 'Silver Plan', 'Value Plan',\n",
       "       '24 Protect', 'Annual Travel Protect Gold', 'Comprehensive Plan',\n",
       "       'Ticket Protector', 'Travel Cruise Protect',\n",
       "       'Single Trip Travel Protect Silver',\n",
       "       'Individual Comprehensive Plan', 'Gold Plan', 'Annual Gold Plan',\n",
       "       'Child Comprehensive Plan', 'Single Trip Travel Protect Platinum',\n",
       "       'Premier Plan', 'Annual Travel Protect Silver',\n",
       "       'Annual Travel Protect Platinum',\n",
       "       'Spouse or Parents Comprehensive Plan'], dtype=object)"
      ]
     },
     "execution_count": 73,
     "metadata": {},
     "output_type": "execute_result"
    }
   ],
   "source": [
    "df['Product Name'].unique()"
   ]
  },
  {
   "cell_type": "code",
   "execution_count": 75,
   "metadata": {},
   "outputs": [
    {
     "name": "stdout",
     "output_type": "stream",
     "text": [
      "                          Product Name  Duration  Net Sales  \\\n",
      "0                   Annual Silver Plan       365      216.0   \n",
      "1                    Cancellation Plan         4       10.0   \n",
      "2                           Basic Plan        19       22.0   \n",
      "3             2 way Comprehensive Plan        20      112.0   \n",
      "4                          Bronze Plan         8       16.0   \n",
      "...                                ...       ...        ...   \n",
      "44322         2 way Comprehensive Plan         6       40.0   \n",
      "44323         2 way Comprehensive Plan        14       30.0   \n",
      "44324  Rental Vehicle Excess Insurance        17       79.2   \n",
      "44325            Travel Cruise Protect        64       30.0   \n",
      "44326         2 way Comprehensive Plan        51       36.0   \n",
      "\n",
      "       Commision (in value)  Age  Claim  \n",
      "0                     54.00   57      0  \n",
      "1                      0.00   33      0  \n",
      "2                      7.70   26      0  \n",
      "3                      0.00   59      0  \n",
      "4                      4.00   28      0  \n",
      "...                     ...  ...    ...  \n",
      "44322                  0.00   36      0  \n",
      "44323                  0.00   36      1  \n",
      "44324                 47.52   47      0  \n",
      "44325                 10.50   50      0  \n",
      "44326                  0.00   36      0  \n",
      "\n",
      "[37664 rows x 6 columns]\n"
     ]
    }
   ],
   "source": [
    "numeric_columns = df.select_dtypes(include=['int64', 'float64'])\n",
    "\n",
    "# Include the 'gender' column\n",
    "filtered_df = pd.concat([df['Product Name'], numeric_columns], axis=1)\n",
    "\n",
    "# Now 'filtered_df' will only contain 'gender' and numeric columns\n",
    "print(filtered_df)"
   ]
  },
  {
   "cell_type": "code",
   "execution_count": 76,
   "metadata": {},
   "outputs": [
    {
     "data": {
      "text/html": [
       "<div>\n",
       "<style scoped>\n",
       "    .dataframe tbody tr th:only-of-type {\n",
       "        vertical-align: middle;\n",
       "    }\n",
       "\n",
       "    .dataframe tbody tr th {\n",
       "        vertical-align: top;\n",
       "    }\n",
       "\n",
       "    .dataframe thead th {\n",
       "        text-align: right;\n",
       "    }\n",
       "</style>\n",
       "<table border=\"1\" class=\"dataframe\">\n",
       "  <thead>\n",
       "    <tr style=\"text-align: right;\">\n",
       "      <th></th>\n",
       "      <th>Duration</th>\n",
       "      <th>Net Sales</th>\n",
       "      <th>Commision (in value)</th>\n",
       "      <th>Age</th>\n",
       "      <th>Claim</th>\n",
       "    </tr>\n",
       "    <tr>\n",
       "      <th>Product Name</th>\n",
       "      <th></th>\n",
       "      <th></th>\n",
       "      <th></th>\n",
       "      <th></th>\n",
       "      <th></th>\n",
       "    </tr>\n",
       "  </thead>\n",
       "  <tbody>\n",
       "    <tr>\n",
       "      <th>1 way Comprehensive Plan</th>\n",
       "      <td>25.750680</td>\n",
       "      <td>29.869897</td>\n",
       "      <td>0.000000</td>\n",
       "      <td>36.776810</td>\n",
       "      <td>0.003266</td>\n",
       "    </tr>\n",
       "    <tr>\n",
       "      <th>2 way Comprehensive Plan</th>\n",
       "      <td>45.422686</td>\n",
       "      <td>45.243361</td>\n",
       "      <td>0.000000</td>\n",
       "      <td>37.425416</td>\n",
       "      <td>0.011665</td>\n",
       "    </tr>\n",
       "    <tr>\n",
       "      <th>24 Protect</th>\n",
       "      <td>32.481707</td>\n",
       "      <td>24.914817</td>\n",
       "      <td>8.720061</td>\n",
       "      <td>48.030488</td>\n",
       "      <td>0.000000</td>\n",
       "    </tr>\n",
       "    <tr>\n",
       "      <th>Annual Gold Plan</th>\n",
       "      <td>371.208333</td>\n",
       "      <td>357.145000</td>\n",
       "      <td>89.287000</td>\n",
       "      <td>45.025000</td>\n",
       "      <td>0.125000</td>\n",
       "    </tr>\n",
       "    <tr>\n",
       "      <th>Annual Silver Plan</th>\n",
       "      <td>371.495037</td>\n",
       "      <td>228.953362</td>\n",
       "      <td>57.237742</td>\n",
       "      <td>41.016129</td>\n",
       "      <td>0.130273</td>\n",
       "    </tr>\n",
       "    <tr>\n",
       "      <th>Annual Travel Protect Gold</th>\n",
       "      <td>371.452830</td>\n",
       "      <td>250.063208</td>\n",
       "      <td>162.540943</td>\n",
       "      <td>38.622642</td>\n",
       "      <td>0.132075</td>\n",
       "    </tr>\n",
       "    <tr>\n",
       "      <th>Annual Travel Protect Platinum</th>\n",
       "      <td>371.966667</td>\n",
       "      <td>335.583333</td>\n",
       "      <td>218.128667</td>\n",
       "      <td>43.666667</td>\n",
       "      <td>0.033333</td>\n",
       "    </tr>\n",
       "    <tr>\n",
       "      <th>Annual Travel Protect Silver</th>\n",
       "      <td>373.888889</td>\n",
       "      <td>211.001389</td>\n",
       "      <td>137.150278</td>\n",
       "      <td>40.111111</td>\n",
       "      <td>0.111111</td>\n",
       "    </tr>\n",
       "    <tr>\n",
       "      <th>Basic Plan</th>\n",
       "      <td>34.699692</td>\n",
       "      <td>27.381192</td>\n",
       "      <td>9.583417</td>\n",
       "      <td>43.574587</td>\n",
       "      <td>0.004478</td>\n",
       "    </tr>\n",
       "    <tr>\n",
       "      <th>Bronze Plan</th>\n",
       "      <td>26.326071</td>\n",
       "      <td>35.044008</td>\n",
       "      <td>8.762772</td>\n",
       "      <td>36.521788</td>\n",
       "      <td>0.060481</td>\n",
       "    </tr>\n",
       "    <tr>\n",
       "      <th>Cancellation Plan</th>\n",
       "      <td>42.838379</td>\n",
       "      <td>28.843501</td>\n",
       "      <td>0.000000</td>\n",
       "      <td>36.671728</td>\n",
       "      <td>0.002835</td>\n",
       "    </tr>\n",
       "    <tr>\n",
       "      <th>Child Comprehensive Plan</th>\n",
       "      <td>365.857143</td>\n",
       "      <td>74.000000</td>\n",
       "      <td>0.000000</td>\n",
       "      <td>12.000000</td>\n",
       "      <td>0.000000</td>\n",
       "    </tr>\n",
       "    <tr>\n",
       "      <th>Comprehensive Plan</th>\n",
       "      <td>80.691244</td>\n",
       "      <td>29.764977</td>\n",
       "      <td>9.822442</td>\n",
       "      <td>55.511521</td>\n",
       "      <td>0.013825</td>\n",
       "    </tr>\n",
       "    <tr>\n",
       "      <th>Gold Plan</th>\n",
       "      <td>31.062222</td>\n",
       "      <td>88.173333</td>\n",
       "      <td>22.045289</td>\n",
       "      <td>40.235556</td>\n",
       "      <td>0.053333</td>\n",
       "    </tr>\n",
       "    <tr>\n",
       "      <th>Individual Comprehensive Plan</th>\n",
       "      <td>367.186047</td>\n",
       "      <td>97.000000</td>\n",
       "      <td>0.000000</td>\n",
       "      <td>42.860465</td>\n",
       "      <td>0.000000</td>\n",
       "    </tr>\n",
       "    <tr>\n",
       "      <th>Premier Plan</th>\n",
       "      <td>52.117117</td>\n",
       "      <td>78.765766</td>\n",
       "      <td>29.686396</td>\n",
       "      <td>44.603604</td>\n",
       "      <td>0.018018</td>\n",
       "    </tr>\n",
       "    <tr>\n",
       "      <th>Rental Vehicle Excess Insurance</th>\n",
       "      <td>40.646221</td>\n",
       "      <td>54.840653</td>\n",
       "      <td>32.904392</td>\n",
       "      <td>40.685158</td>\n",
       "      <td>0.013398</td>\n",
       "    </tr>\n",
       "    <tr>\n",
       "      <th>Silver Plan</th>\n",
       "      <td>28.073649</td>\n",
       "      <td>52.087601</td>\n",
       "      <td>13.024291</td>\n",
       "      <td>37.750676</td>\n",
       "      <td>0.072973</td>\n",
       "    </tr>\n",
       "    <tr>\n",
       "      <th>Single Trip Travel Protect Gold</th>\n",
       "      <td>25.769841</td>\n",
       "      <td>44.123810</td>\n",
       "      <td>28.681667</td>\n",
       "      <td>40.833333</td>\n",
       "      <td>0.055556</td>\n",
       "    </tr>\n",
       "    <tr>\n",
       "      <th>Single Trip Travel Protect Platinum</th>\n",
       "      <td>20.250000</td>\n",
       "      <td>42.139773</td>\n",
       "      <td>27.393182</td>\n",
       "      <td>42.613636</td>\n",
       "      <td>0.113636</td>\n",
       "    </tr>\n",
       "    <tr>\n",
       "      <th>Single Trip Travel Protect Silver</th>\n",
       "      <td>27.752294</td>\n",
       "      <td>36.462844</td>\n",
       "      <td>23.607339</td>\n",
       "      <td>39.981651</td>\n",
       "      <td>0.036697</td>\n",
       "    </tr>\n",
       "    <tr>\n",
       "      <th>Spouse or Parents Comprehensive Plan</th>\n",
       "      <td>368.230769</td>\n",
       "      <td>86.000000</td>\n",
       "      <td>0.000000</td>\n",
       "      <td>45.846154</td>\n",
       "      <td>0.076923</td>\n",
       "    </tr>\n",
       "    <tr>\n",
       "      <th>Ticket Protector</th>\n",
       "      <td>63.172059</td>\n",
       "      <td>6.545662</td>\n",
       "      <td>1.835147</td>\n",
       "      <td>48.000000</td>\n",
       "      <td>0.007353</td>\n",
       "    </tr>\n",
       "    <tr>\n",
       "      <th>Travel Cruise Protect</th>\n",
       "      <td>39.194030</td>\n",
       "      <td>30.000000</td>\n",
       "      <td>10.500000</td>\n",
       "      <td>50.241791</td>\n",
       "      <td>0.005970</td>\n",
       "    </tr>\n",
       "    <tr>\n",
       "      <th>Value Plan</th>\n",
       "      <td>35.964898</td>\n",
       "      <td>49.872653</td>\n",
       "      <td>18.060318</td>\n",
       "      <td>44.106122</td>\n",
       "      <td>0.008163</td>\n",
       "    </tr>\n",
       "  </tbody>\n",
       "</table>\n",
       "</div>"
      ],
      "text/plain": [
       "                                        Duration   Net Sales  \\\n",
       "Product Name                                                   \n",
       "1 way Comprehensive Plan               25.750680   29.869897   \n",
       "2 way Comprehensive Plan               45.422686   45.243361   \n",
       "24 Protect                             32.481707   24.914817   \n",
       "Annual Gold Plan                      371.208333  357.145000   \n",
       "Annual Silver Plan                    371.495037  228.953362   \n",
       "Annual Travel Protect Gold            371.452830  250.063208   \n",
       "Annual Travel Protect Platinum        371.966667  335.583333   \n",
       "Annual Travel Protect Silver          373.888889  211.001389   \n",
       "Basic Plan                             34.699692   27.381192   \n",
       "Bronze Plan                            26.326071   35.044008   \n",
       "Cancellation Plan                      42.838379   28.843501   \n",
       "Child Comprehensive Plan              365.857143   74.000000   \n",
       "Comprehensive Plan                     80.691244   29.764977   \n",
       "Gold Plan                              31.062222   88.173333   \n",
       "Individual Comprehensive Plan         367.186047   97.000000   \n",
       "Premier Plan                           52.117117   78.765766   \n",
       "Rental Vehicle Excess Insurance        40.646221   54.840653   \n",
       "Silver Plan                            28.073649   52.087601   \n",
       "Single Trip Travel Protect Gold        25.769841   44.123810   \n",
       "Single Trip Travel Protect Platinum    20.250000   42.139773   \n",
       "Single Trip Travel Protect Silver      27.752294   36.462844   \n",
       "Spouse or Parents Comprehensive Plan  368.230769   86.000000   \n",
       "Ticket Protector                       63.172059    6.545662   \n",
       "Travel Cruise Protect                  39.194030   30.000000   \n",
       "Value Plan                             35.964898   49.872653   \n",
       "\n",
       "                                      Commision (in value)        Age  \\\n",
       "Product Name                                                            \n",
       "1 way Comprehensive Plan                          0.000000  36.776810   \n",
       "2 way Comprehensive Plan                          0.000000  37.425416   \n",
       "24 Protect                                        8.720061  48.030488   \n",
       "Annual Gold Plan                                 89.287000  45.025000   \n",
       "Annual Silver Plan                               57.237742  41.016129   \n",
       "Annual Travel Protect Gold                      162.540943  38.622642   \n",
       "Annual Travel Protect Platinum                  218.128667  43.666667   \n",
       "Annual Travel Protect Silver                    137.150278  40.111111   \n",
       "Basic Plan                                        9.583417  43.574587   \n",
       "Bronze Plan                                       8.762772  36.521788   \n",
       "Cancellation Plan                                 0.000000  36.671728   \n",
       "Child Comprehensive Plan                          0.000000  12.000000   \n",
       "Comprehensive Plan                                9.822442  55.511521   \n",
       "Gold Plan                                        22.045289  40.235556   \n",
       "Individual Comprehensive Plan                     0.000000  42.860465   \n",
       "Premier Plan                                     29.686396  44.603604   \n",
       "Rental Vehicle Excess Insurance                  32.904392  40.685158   \n",
       "Silver Plan                                      13.024291  37.750676   \n",
       "Single Trip Travel Protect Gold                  28.681667  40.833333   \n",
       "Single Trip Travel Protect Platinum              27.393182  42.613636   \n",
       "Single Trip Travel Protect Silver                23.607339  39.981651   \n",
       "Spouse or Parents Comprehensive Plan              0.000000  45.846154   \n",
       "Ticket Protector                                  1.835147  48.000000   \n",
       "Travel Cruise Protect                            10.500000  50.241791   \n",
       "Value Plan                                       18.060318  44.106122   \n",
       "\n",
       "                                         Claim  \n",
       "Product Name                                    \n",
       "1 way Comprehensive Plan              0.003266  \n",
       "2 way Comprehensive Plan              0.011665  \n",
       "24 Protect                            0.000000  \n",
       "Annual Gold Plan                      0.125000  \n",
       "Annual Silver Plan                    0.130273  \n",
       "Annual Travel Protect Gold            0.132075  \n",
       "Annual Travel Protect Platinum        0.033333  \n",
       "Annual Travel Protect Silver          0.111111  \n",
       "Basic Plan                            0.004478  \n",
       "Bronze Plan                           0.060481  \n",
       "Cancellation Plan                     0.002835  \n",
       "Child Comprehensive Plan              0.000000  \n",
       "Comprehensive Plan                    0.013825  \n",
       "Gold Plan                             0.053333  \n",
       "Individual Comprehensive Plan         0.000000  \n",
       "Premier Plan                          0.018018  \n",
       "Rental Vehicle Excess Insurance       0.013398  \n",
       "Silver Plan                           0.072973  \n",
       "Single Trip Travel Protect Gold       0.055556  \n",
       "Single Trip Travel Protect Platinum   0.113636  \n",
       "Single Trip Travel Protect Silver     0.036697  \n",
       "Spouse or Parents Comprehensive Plan  0.076923  \n",
       "Ticket Protector                      0.007353  \n",
       "Travel Cruise Protect                 0.005970  \n",
       "Value Plan                            0.008163  "
      ]
     },
     "execution_count": 76,
     "metadata": {},
     "output_type": "execute_result"
    }
   ],
   "source": [
    "filtered_df.groupby(by='Product Name').mean()"
   ]
  },
  {
   "cell_type": "code",
   "execution_count": 77,
   "metadata": {},
   "outputs": [
    {
     "data": {
      "text/html": [
       "<div>\n",
       "<style scoped>\n",
       "    .dataframe tbody tr th:only-of-type {\n",
       "        vertical-align: middle;\n",
       "    }\n",
       "\n",
       "    .dataframe tbody tr th {\n",
       "        vertical-align: top;\n",
       "    }\n",
       "\n",
       "    .dataframe thead th {\n",
       "        text-align: right;\n",
       "    }\n",
       "</style>\n",
       "<table border=\"1\" class=\"dataframe\">\n",
       "  <thead>\n",
       "    <tr style=\"text-align: right;\">\n",
       "      <th>Claim</th>\n",
       "      <th>0</th>\n",
       "      <th>1</th>\n",
       "    </tr>\n",
       "    <tr>\n",
       "      <th>Product Name</th>\n",
       "      <th></th>\n",
       "      <th></th>\n",
       "    </tr>\n",
       "  </thead>\n",
       "  <tbody>\n",
       "    <tr>\n",
       "      <th>Cancellation Plan</th>\n",
       "      <td>10902</td>\n",
       "      <td>31</td>\n",
       "    </tr>\n",
       "    <tr>\n",
       "      <th>2 way Comprehensive Plan</th>\n",
       "      <td>7964</td>\n",
       "      <td>94</td>\n",
       "    </tr>\n",
       "    <tr>\n",
       "      <th>Rental Vehicle Excess Insurance</th>\n",
       "      <td>4713</td>\n",
       "      <td>64</td>\n",
       "    </tr>\n",
       "    <tr>\n",
       "      <th>Basic Plan</th>\n",
       "      <td>3557</td>\n",
       "      <td>16</td>\n",
       "    </tr>\n",
       "    <tr>\n",
       "      <th>Bronze Plan</th>\n",
       "      <td>2501</td>\n",
       "      <td>161</td>\n",
       "    </tr>\n",
       "    <tr>\n",
       "      <th>1 way Comprehensive Plan</th>\n",
       "      <td>1831</td>\n",
       "      <td>6</td>\n",
       "    </tr>\n",
       "    <tr>\n",
       "      <th>Silver Plan</th>\n",
       "      <td>1372</td>\n",
       "      <td>108</td>\n",
       "    </tr>\n",
       "    <tr>\n",
       "      <th>Value Plan</th>\n",
       "      <td>1215</td>\n",
       "      <td>10</td>\n",
       "    </tr>\n",
       "    <tr>\n",
       "      <th>Annual Silver Plan</th>\n",
       "      <td>701</td>\n",
       "      <td>105</td>\n",
       "    </tr>\n",
       "    <tr>\n",
       "      <th>Ticket Protector</th>\n",
       "      <td>675</td>\n",
       "      <td>5</td>\n",
       "    </tr>\n",
       "    <tr>\n",
       "      <th>Travel Cruise Protect</th>\n",
       "      <td>333</td>\n",
       "      <td>2</td>\n",
       "    </tr>\n",
       "    <tr>\n",
       "      <th>Comprehensive Plan</th>\n",
       "      <td>214</td>\n",
       "      <td>3</td>\n",
       "    </tr>\n",
       "    <tr>\n",
       "      <th>Gold Plan</th>\n",
       "      <td>213</td>\n",
       "      <td>12</td>\n",
       "    </tr>\n",
       "    <tr>\n",
       "      <th>24 Protect</th>\n",
       "      <td>164</td>\n",
       "      <td>0</td>\n",
       "    </tr>\n",
       "    <tr>\n",
       "      <th>Single Trip Travel Protect Gold</th>\n",
       "      <td>119</td>\n",
       "      <td>7</td>\n",
       "    </tr>\n",
       "    <tr>\n",
       "      <th>Premier Plan</th>\n",
       "      <td>109</td>\n",
       "      <td>2</td>\n",
       "    </tr>\n",
       "    <tr>\n",
       "      <th>Single Trip Travel Protect Silver</th>\n",
       "      <td>105</td>\n",
       "      <td>4</td>\n",
       "    </tr>\n",
       "    <tr>\n",
       "      <th>Annual Gold Plan</th>\n",
       "      <td>105</td>\n",
       "      <td>15</td>\n",
       "    </tr>\n",
       "    <tr>\n",
       "      <th>Annual Travel Protect Gold</th>\n",
       "      <td>46</td>\n",
       "      <td>7</td>\n",
       "    </tr>\n",
       "    <tr>\n",
       "      <th>Individual Comprehensive Plan</th>\n",
       "      <td>43</td>\n",
       "      <td>0</td>\n",
       "    </tr>\n",
       "    <tr>\n",
       "      <th>Single Trip Travel Protect Platinum</th>\n",
       "      <td>39</td>\n",
       "      <td>5</td>\n",
       "    </tr>\n",
       "    <tr>\n",
       "      <th>Annual Travel Protect Silver</th>\n",
       "      <td>32</td>\n",
       "      <td>4</td>\n",
       "    </tr>\n",
       "    <tr>\n",
       "      <th>Annual Travel Protect Platinum</th>\n",
       "      <td>29</td>\n",
       "      <td>1</td>\n",
       "    </tr>\n",
       "    <tr>\n",
       "      <th>Spouse or Parents Comprehensive Plan</th>\n",
       "      <td>12</td>\n",
       "      <td>1</td>\n",
       "    </tr>\n",
       "    <tr>\n",
       "      <th>Child Comprehensive Plan</th>\n",
       "      <td>7</td>\n",
       "      <td>0</td>\n",
       "    </tr>\n",
       "  </tbody>\n",
       "</table>\n",
       "</div>"
      ],
      "text/plain": [
       "Claim                                     0    1\n",
       "Product Name                                    \n",
       "Cancellation Plan                     10902   31\n",
       "2 way Comprehensive Plan               7964   94\n",
       "Rental Vehicle Excess Insurance        4713   64\n",
       "Basic Plan                             3557   16\n",
       "Bronze Plan                            2501  161\n",
       "1 way Comprehensive Plan               1831    6\n",
       "Silver Plan                            1372  108\n",
       "Value Plan                             1215   10\n",
       "Annual Silver Plan                      701  105\n",
       "Ticket Protector                        675    5\n",
       "Travel Cruise Protect                   333    2\n",
       "Comprehensive Plan                      214    3\n",
       "Gold Plan                               213   12\n",
       "24 Protect                              164    0\n",
       "Single Trip Travel Protect Gold         119    7\n",
       "Premier Plan                            109    2\n",
       "Single Trip Travel Protect Silver       105    4\n",
       "Annual Gold Plan                        105   15\n",
       "Annual Travel Protect Gold               46    7\n",
       "Individual Comprehensive Plan            43    0\n",
       "Single Trip Travel Protect Platinum      39    5\n",
       "Annual Travel Protect Silver             32    4\n",
       "Annual Travel Protect Platinum           29    1\n",
       "Spouse or Parents Comprehensive Plan     12    1\n",
       "Child Comprehensive Plan                  7    0"
      ]
     },
     "execution_count": 77,
     "metadata": {},
     "output_type": "execute_result"
    }
   ],
   "source": [
    "products = pd.crosstab(filtered_df[\"Product Name\"],filtered_df[\"Claim\"]).sort_values(by=0, ascending = False)\n",
    "products"
   ]
  },
  {
   "cell_type": "code",
   "execution_count": 79,
   "metadata": {},
   "outputs": [
    {
     "data": {
      "image/png": "[encoded data removed]",
      "text/plain": [
       "<Figure size 2200x1000 with 2 Axes>"
      ]
     },
     "metadata": {},
     "output_type": "display_data"
    }
   ],
   "source": [
    "products[\"Total_Claim\"] = products[0] + products[1]\n",
    "products[\"Cum_Percentage\"] = round(products[\"Total_Claim\"].cumsum()/products[\"Total_Claim\"].sum()*100,2)\n",
    "# Set figure and axis\n",
    "fig, ax = plt.subplots(figsize=(22,10))\n",
    "\n",
    "# Plot bars (i.e. frequencies)\n",
    "ax.bar(products.index, products[\"Total_Claim\"],color=color_palette[2])\n",
    "ax.set_title(\"Pareto Chart\")\n",
    "ax.set_xlabel(\"Destination\")\n",
    "ax.set_ylabel(\"Frequency\")\n",
    "plt.xticks(rotation=90)\n",
    "\n",
    "# Second y axis (i.e. cumulative percentage)\n",
    "ax2 = ax.twinx()\n",
    "ax2.plot(products.index, products[\"Cum_Percentage\"], color=\"red\", marker=\"D\", ms=7)\n",
    "ax2.axhline(80, color=dark_color[2], linestyle=\"dashed\")\n",
    "ax2.yaxis.set_major_formatter(PercentFormatter())\n",
    "ax2.set_ylabel(\"Cumulative Percentage\");"
   ]
  },
  {
   "cell_type": "code",
   "execution_count": 80,
   "metadata": {},
   "outputs": [
    {
     "data": {
      "text/plain": [
       "array(['Cancellation Plan', '2 way Comprehensive Plan',\n",
       "       'Rental Vehicle Excess Insurance', 'Basic Plan', 'Bronze Plan'],\n",
       "      dtype=object)"
      ]
     },
     "execution_count": 80,
     "metadata": {},
     "output_type": "execute_result"
    }
   ],
   "source": [
    "products_to_grp = products.index[:5].values\n",
    "products_to_grp"
   ]
  },
  {
   "cell_type": "markdown",
   "metadata": {},
   "source": [
    "Dari pareto chart, ~80% dari total claim nya :\n",
    "1. Cancellation Plan\n",
    "2. 2-way comprehensive plan\n",
    "3. Rental Vehicle excess insurance\n",
    "4. basic plan\n",
    "5. bronze plan\n",
    "\n",
    "yang lainnya bakal kita masukin ke 'Other' category."
   ]
  },
  {
   "cell_type": "code",
   "execution_count": 81,
   "metadata": {},
   "outputs": [
    {
     "data": {
      "text/plain": [
       "array(['Other_Product', 'Cancellation Plan', 'Basic Plan',\n",
       "       '2 way Comprehensive Plan', 'Bronze Plan',\n",
       "       'Rental Vehicle Excess Insurance'], dtype=object)"
      ]
     },
     "execution_count": 81,
     "metadata": {},
     "output_type": "execute_result"
    }
   ],
   "source": [
    "df['Product Name'] = df['Product Name'].apply(lambda x: 'Other_Product' if x not in products_to_grp else x)\n",
    "df['Product Name'].unique()"
   ]
  },
  {
   "cell_type": "markdown",
   "metadata": {},
   "source": [
    "#### Agency"
   ]
  },
  {
   "cell_type": "code",
   "execution_count": 82,
   "metadata": {},
   "outputs": [
    {
     "data": {
      "text/plain": [
       "array(['C2B', 'EPX', 'JZI', 'CWT', 'LWC', 'ART', 'CSR', 'RAB', 'KML',\n",
       "       'SSI', 'TST', 'TTW', 'ADM', 'CCR', 'CBH'], dtype=object)"
      ]
     },
     "execution_count": 82,
     "metadata": {},
     "output_type": "execute_result"
    }
   ],
   "source": [
    "df['Agency'].unique()"
   ]
  },
  {
   "cell_type": "code",
   "execution_count": 83,
   "metadata": {},
   "outputs": [
    {
     "name": "stdout",
     "output_type": "stream",
     "text": [
      "      Agency  Duration  Net Sales  Commision (in value)  Age  Claim\n",
      "0        C2B       365      216.0                 54.00   57      0\n",
      "1        EPX         4       10.0                  0.00   33      0\n",
      "2        JZI        19       22.0                  7.70   26      0\n",
      "3        EPX        20      112.0                  0.00   59      0\n",
      "4        C2B         8       16.0                  4.00   28      0\n",
      "...      ...       ...        ...                   ...  ...    ...\n",
      "44322    EPX         6       40.0                  0.00   36      0\n",
      "44323    EPX        14       30.0                  0.00   36      1\n",
      "44324    CWT        17       79.2                 47.52   47      0\n",
      "44325    TST        64       30.0                 10.50   50      0\n",
      "44326    EPX        51       36.0                  0.00   36      0\n",
      "\n",
      "[37664 rows x 6 columns]\n"
     ]
    }
   ],
   "source": [
    "numeric_columns = df.select_dtypes(include=['int64', 'float64'])\n",
    "\n",
    "# Include the 'gender' column\n",
    "filtered_df = pd.concat([df['Agency'], numeric_columns], axis=1)\n",
    "\n",
    "# Now 'filtered_df' will only contain 'gender' and numeric columns\n",
    "print(filtered_df)"
   ]
  },
  {
   "cell_type": "code",
   "execution_count": 84,
   "metadata": {},
   "outputs": [
    {
     "data": {
      "text/html": [
       "<div>\n",
       "<style scoped>\n",
       "    .dataframe tbody tr th:only-of-type {\n",
       "        vertical-align: middle;\n",
       "    }\n",
       "\n",
       "    .dataframe tbody tr th {\n",
       "        vertical-align: top;\n",
       "    }\n",
       "\n",
       "    .dataframe thead th {\n",
       "        text-align: right;\n",
       "    }\n",
       "</style>\n",
       "<table border=\"1\" class=\"dataframe\">\n",
       "  <thead>\n",
       "    <tr style=\"text-align: right;\">\n",
       "      <th></th>\n",
       "      <th>Duration</th>\n",
       "      <th>Net Sales</th>\n",
       "      <th>Commision (in value)</th>\n",
       "      <th>Age</th>\n",
       "      <th>Claim</th>\n",
       "    </tr>\n",
       "    <tr>\n",
       "      <th>Agency</th>\n",
       "      <th></th>\n",
       "      <th></th>\n",
       "      <th></th>\n",
       "      <th></th>\n",
       "      <th></th>\n",
       "    </tr>\n",
       "  </thead>\n",
       "  <tbody>\n",
       "    <tr>\n",
       "      <th>ADM</th>\n",
       "      <td>52.714286</td>\n",
       "      <td>106.000000</td>\n",
       "      <td>40.280000</td>\n",
       "      <td>22.685714</td>\n",
       "      <td>0.000000</td>\n",
       "    </tr>\n",
       "    <tr>\n",
       "      <th>ART</th>\n",
       "      <td>32.383784</td>\n",
       "      <td>27.670432</td>\n",
       "      <td>9.684541</td>\n",
       "      <td>47.832432</td>\n",
       "      <td>0.000000</td>\n",
       "    </tr>\n",
       "    <tr>\n",
       "      <th>C2B</th>\n",
       "      <td>87.396184</td>\n",
       "      <td>78.898472</td>\n",
       "      <td>19.726186</td>\n",
       "      <td>37.900435</td>\n",
       "      <td>0.075760</td>\n",
       "    </tr>\n",
       "    <tr>\n",
       "      <th>CBH</th>\n",
       "      <td>92.375000</td>\n",
       "      <td>29.453125</td>\n",
       "      <td>9.719531</td>\n",
       "      <td>57.062500</td>\n",
       "      <td>0.015625</td>\n",
       "    </tr>\n",
       "    <tr>\n",
       "      <th>CCR</th>\n",
       "      <td>73.170213</td>\n",
       "      <td>31.297872</td>\n",
       "      <td>10.328298</td>\n",
       "      <td>53.893617</td>\n",
       "      <td>0.010638</td>\n",
       "    </tr>\n",
       "    <tr>\n",
       "      <th>CSR</th>\n",
       "      <td>83.764706</td>\n",
       "      <td>31.676471</td>\n",
       "      <td>10.453235</td>\n",
       "      <td>57.661765</td>\n",
       "      <td>0.014706</td>\n",
       "    </tr>\n",
       "    <tr>\n",
       "      <th>CWT</th>\n",
       "      <td>40.646221</td>\n",
       "      <td>54.840653</td>\n",
       "      <td>32.904392</td>\n",
       "      <td>40.685158</td>\n",
       "      <td>0.013398</td>\n",
       "    </tr>\n",
       "    <tr>\n",
       "      <th>EPX</th>\n",
       "      <td>42.331093</td>\n",
       "      <td>35.278855</td>\n",
       "      <td>0.000000</td>\n",
       "      <td>36.972585</td>\n",
       "      <td>0.006290</td>\n",
       "    </tr>\n",
       "    <tr>\n",
       "      <th>JZI</th>\n",
       "      <td>35.681093</td>\n",
       "      <td>33.570600</td>\n",
       "      <td>11.749710</td>\n",
       "      <td>43.635155</td>\n",
       "      <td>0.005319</td>\n",
       "    </tr>\n",
       "    <tr>\n",
       "      <th>KML</th>\n",
       "      <td>42.979757</td>\n",
       "      <td>61.251012</td>\n",
       "      <td>23.275385</td>\n",
       "      <td>47.870445</td>\n",
       "      <td>0.020243</td>\n",
       "    </tr>\n",
       "    <tr>\n",
       "      <th>LWC</th>\n",
       "      <td>129.319095</td>\n",
       "      <td>106.294221</td>\n",
       "      <td>69.066156</td>\n",
       "      <td>40.650754</td>\n",
       "      <td>0.070352</td>\n",
       "    </tr>\n",
       "    <tr>\n",
       "      <th>RAB</th>\n",
       "      <td>26.347072</td>\n",
       "      <td>18.281996</td>\n",
       "      <td>7.312798</td>\n",
       "      <td>43.416486</td>\n",
       "      <td>0.002169</td>\n",
       "    </tr>\n",
       "    <tr>\n",
       "      <th>SSI</th>\n",
       "      <td>63.172059</td>\n",
       "      <td>6.545662</td>\n",
       "      <td>1.835147</td>\n",
       "      <td>48.000000</td>\n",
       "      <td>0.007353</td>\n",
       "    </tr>\n",
       "    <tr>\n",
       "      <th>TST</th>\n",
       "      <td>39.194030</td>\n",
       "      <td>30.000000</td>\n",
       "      <td>10.500000</td>\n",
       "      <td>50.241791</td>\n",
       "      <td>0.005970</td>\n",
       "    </tr>\n",
       "    <tr>\n",
       "      <th>TTW</th>\n",
       "      <td>367.253968</td>\n",
       "      <td>92.174603</td>\n",
       "      <td>0.000000</td>\n",
       "      <td>40.047619</td>\n",
       "      <td>0.015873</td>\n",
       "    </tr>\n",
       "  </tbody>\n",
       "</table>\n",
       "</div>"
      ],
      "text/plain": [
       "          Duration   Net Sales  Commision (in value)        Age     Claim\n",
       "Agency                                                                   \n",
       "ADM      52.714286  106.000000             40.280000  22.685714  0.000000\n",
       "ART      32.383784   27.670432              9.684541  47.832432  0.000000\n",
       "C2B      87.396184   78.898472             19.726186  37.900435  0.075760\n",
       "CBH      92.375000   29.453125              9.719531  57.062500  0.015625\n",
       "CCR      73.170213   31.297872             10.328298  53.893617  0.010638\n",
       "CSR      83.764706   31.676471             10.453235  57.661765  0.014706\n",
       "CWT      40.646221   54.840653             32.904392  40.685158  0.013398\n",
       "EPX      42.331093   35.278855              0.000000  36.972585  0.006290\n",
       "JZI      35.681093   33.570600             11.749710  43.635155  0.005319\n",
       "KML      42.979757   61.251012             23.275385  47.870445  0.020243\n",
       "LWC     129.319095  106.294221             69.066156  40.650754  0.070352\n",
       "RAB      26.347072   18.281996              7.312798  43.416486  0.002169\n",
       "SSI      63.172059    6.545662              1.835147  48.000000  0.007353\n",
       "TST      39.194030   30.000000             10.500000  50.241791  0.005970\n",
       "TTW     367.253968   92.174603              0.000000  40.047619  0.015873"
      ]
     },
     "execution_count": 84,
     "metadata": {},
     "output_type": "execute_result"
    }
   ],
   "source": [
    "filtered_df.groupby(by='Agency').mean()"
   ]
  },
  {
   "cell_type": "code",
   "execution_count": 85,
   "metadata": {},
   "outputs": [
    {
     "data": {
      "text/html": [
       "<div>\n",
       "<style scoped>\n",
       "    .dataframe tbody tr th:only-of-type {\n",
       "        vertical-align: middle;\n",
       "    }\n",
       "\n",
       "    .dataframe tbody tr th {\n",
       "        vertical-align: top;\n",
       "    }\n",
       "\n",
       "    .dataframe thead th {\n",
       "        text-align: right;\n",
       "    }\n",
       "</style>\n",
       "<table border=\"1\" class=\"dataframe\">\n",
       "  <thead>\n",
       "    <tr style=\"text-align: right;\">\n",
       "      <th>Claim</th>\n",
       "      <th>0</th>\n",
       "      <th>1</th>\n",
       "    </tr>\n",
       "    <tr>\n",
       "      <th>Agency</th>\n",
       "      <th></th>\n",
       "      <th></th>\n",
       "    </tr>\n",
       "  </thead>\n",
       "  <tbody>\n",
       "    <tr>\n",
       "      <th>EPX</th>\n",
       "      <td>20697</td>\n",
       "      <td>131</td>\n",
       "    </tr>\n",
       "    <tr>\n",
       "      <th>C2B</th>\n",
       "      <td>4892</td>\n",
       "      <td>401</td>\n",
       "    </tr>\n",
       "    <tr>\n",
       "      <th>CWT</th>\n",
       "      <td>4713</td>\n",
       "      <td>64</td>\n",
       "    </tr>\n",
       "    <tr>\n",
       "      <th>JZI</th>\n",
       "      <td>4114</td>\n",
       "      <td>22</td>\n",
       "    </tr>\n",
       "    <tr>\n",
       "      <th>SSI</th>\n",
       "      <td>675</td>\n",
       "      <td>5</td>\n",
       "    </tr>\n",
       "    <tr>\n",
       "      <th>RAB</th>\n",
       "      <td>460</td>\n",
       "      <td>1</td>\n",
       "    </tr>\n",
       "    <tr>\n",
       "      <th>LWC</th>\n",
       "      <td>370</td>\n",
       "      <td>28</td>\n",
       "    </tr>\n",
       "    <tr>\n",
       "      <th>TST</th>\n",
       "      <td>333</td>\n",
       "      <td>2</td>\n",
       "    </tr>\n",
       "    <tr>\n",
       "      <th>KML</th>\n",
       "      <td>242</td>\n",
       "      <td>5</td>\n",
       "    </tr>\n",
       "    <tr>\n",
       "      <th>ART</th>\n",
       "      <td>185</td>\n",
       "      <td>0</td>\n",
       "    </tr>\n",
       "    <tr>\n",
       "      <th>CCR</th>\n",
       "      <td>93</td>\n",
       "      <td>1</td>\n",
       "    </tr>\n",
       "    <tr>\n",
       "      <th>CSR</th>\n",
       "      <td>67</td>\n",
       "      <td>1</td>\n",
       "    </tr>\n",
       "    <tr>\n",
       "      <th>CBH</th>\n",
       "      <td>63</td>\n",
       "      <td>1</td>\n",
       "    </tr>\n",
       "    <tr>\n",
       "      <th>TTW</th>\n",
       "      <td>62</td>\n",
       "      <td>1</td>\n",
       "    </tr>\n",
       "    <tr>\n",
       "      <th>ADM</th>\n",
       "      <td>35</td>\n",
       "      <td>0</td>\n",
       "    </tr>\n",
       "  </tbody>\n",
       "</table>\n",
       "</div>"
      ],
      "text/plain": [
       "Claim       0    1\n",
       "Agency            \n",
       "EPX     20697  131\n",
       "C2B      4892  401\n",
       "CWT      4713   64\n",
       "JZI      4114   22\n",
       "SSI       675    5\n",
       "RAB       460    1\n",
       "LWC       370   28\n",
       "TST       333    2\n",
       "KML       242    5\n",
       "ART       185    0\n",
       "CCR        93    1\n",
       "CSR        67    1\n",
       "CBH        63    1\n",
       "TTW        62    1\n",
       "ADM        35    0"
      ]
     },
     "execution_count": 85,
     "metadata": {},
     "output_type": "execute_result"
    }
   ],
   "source": [
    "agencies = pd.crosstab(filtered_df['Agency'],filtered_df['Claim']).sort_values(by=0, ascending = False)\n",
    "agencies"
   ]
  },
  {
   "cell_type": "code",
   "execution_count": 86,
   "metadata": {},
   "outputs": [
    {
     "data": {
      "image/png": "[encoded data removed]",
      "text/plain": [
       "<Figure size 2200x1000 with 2 Axes>"
      ]
     },
     "metadata": {},
     "output_type": "display_data"
    }
   ],
   "source": [
    "agencies[\"Total_Claim\"] = agencies[0] + agencies[1]\n",
    "agencies[\"Cum_Percentage\"] = round(agencies[\"Total_Claim\"].cumsum()/agencies[\"Total_Claim\"].sum()*100,2)\n",
    "# Set figure and axis\n",
    "fig, ax = plt.subplots(figsize=(22,10))\n",
    "\n",
    "# Plot bars (i.e. frequencies)\n",
    "ax.bar(agencies.index, agencies[\"Total_Claim\"],color=color_palette[2])\n",
    "ax.set_title(\"Pareto Chart\")\n",
    "ax.set_xlabel(\"Destination\")\n",
    "ax.set_ylabel(\"Frequency\")\n",
    "plt.xticks(rotation=90)\n",
    "\n",
    "# Second y axis (i.e. cumulative percentage)\n",
    "ax2 = ax.twinx()\n",
    "ax2.plot(agencies.index, agencies[\"Cum_Percentage\"], color=\"red\", marker=\"D\", ms=7)\n",
    "ax2.axhline(80, color=dark_color[2], linestyle=\"dashed\")\n",
    "ax2.yaxis.set_major_formatter(PercentFormatter())\n",
    "ax2.set_ylabel(\"Cumulative Percentage\");"
   ]
  },
  {
   "cell_type": "code",
   "execution_count": 87,
   "metadata": {},
   "outputs": [
    {
     "data": {
      "text/plain": [
       "array(['EPX', 'C2B', 'CWT'], dtype=object)"
      ]
     },
     "execution_count": 87,
     "metadata": {},
     "output_type": "execute_result"
    }
   ],
   "source": [
    "agencies_to_grp = agencies.index[:3].values\n",
    "agencies_to_grp"
   ]
  },
  {
   "cell_type": "markdown",
   "metadata": {},
   "source": [
    "Selain EPX, C2B, dan CWT, kita masukin ke Others"
   ]
  },
  {
   "cell_type": "code",
   "execution_count": 88,
   "metadata": {},
   "outputs": [
    {
     "data": {
      "text/plain": [
       "array(['C2B', 'EPX', 'Other_Agency', 'CWT'], dtype=object)"
      ]
     },
     "execution_count": 88,
     "metadata": {},
     "output_type": "execute_result"
    }
   ],
   "source": [
    "df['Agency'] = df['Agency'].apply(lambda x: 'Other_Agency' if x not in agencies_to_grp else x)\n",
    "df['Agency'].unique()"
   ]
  },
  {
   "cell_type": "markdown",
   "metadata": {},
   "source": [
    "#### Modeling"
   ]
  },
  {
   "cell_type": "code",
   "execution_count": 89,
   "metadata": {},
   "outputs": [
    {
     "data": {
      "text/html": [
       "<div>\n",
       "<style scoped>\n",
       "    .dataframe tbody tr th:only-of-type {\n",
       "        vertical-align: middle;\n",
       "    }\n",
       "\n",
       "    .dataframe tbody tr th {\n",
       "        vertical-align: top;\n",
       "    }\n",
       "\n",
       "    .dataframe thead th {\n",
       "        text-align: right;\n",
       "    }\n",
       "</style>\n",
       "<table border=\"1\" class=\"dataframe\">\n",
       "  <thead>\n",
       "    <tr style=\"text-align: right;\">\n",
       "      <th></th>\n",
       "      <th>Agency</th>\n",
       "      <th>Agency Type</th>\n",
       "      <th>Distribution Channel</th>\n",
       "      <th>Product Name</th>\n",
       "      <th>Duration</th>\n",
       "      <th>Destination</th>\n",
       "      <th>Net Sales</th>\n",
       "      <th>Commision (in value)</th>\n",
       "      <th>Age</th>\n",
       "      <th>Claim</th>\n",
       "    </tr>\n",
       "  </thead>\n",
       "  <tbody>\n",
       "    <tr>\n",
       "      <th>0</th>\n",
       "      <td>C2B</td>\n",
       "      <td>Airlines</td>\n",
       "      <td>Online</td>\n",
       "      <td>Other_Product</td>\n",
       "      <td>365</td>\n",
       "      <td>SINGAPORE</td>\n",
       "      <td>216.0</td>\n",
       "      <td>54.0</td>\n",
       "      <td>57</td>\n",
       "      <td>0</td>\n",
       "    </tr>\n",
       "    <tr>\n",
       "      <th>1</th>\n",
       "      <td>EPX</td>\n",
       "      <td>Travel Agency</td>\n",
       "      <td>Online</td>\n",
       "      <td>Cancellation Plan</td>\n",
       "      <td>4</td>\n",
       "      <td>MALAYSIA</td>\n",
       "      <td>10.0</td>\n",
       "      <td>0.0</td>\n",
       "      <td>33</td>\n",
       "      <td>0</td>\n",
       "    </tr>\n",
       "    <tr>\n",
       "      <th>2</th>\n",
       "      <td>Other_Agency</td>\n",
       "      <td>Airlines</td>\n",
       "      <td>Online</td>\n",
       "      <td>Basic Plan</td>\n",
       "      <td>19</td>\n",
       "      <td>INDIA</td>\n",
       "      <td>22.0</td>\n",
       "      <td>7.7</td>\n",
       "      <td>26</td>\n",
       "      <td>0</td>\n",
       "    </tr>\n",
       "    <tr>\n",
       "      <th>3</th>\n",
       "      <td>EPX</td>\n",
       "      <td>Travel Agency</td>\n",
       "      <td>Online</td>\n",
       "      <td>2 way Comprehensive Plan</td>\n",
       "      <td>20</td>\n",
       "      <td>UNITED STATES</td>\n",
       "      <td>112.0</td>\n",
       "      <td>0.0</td>\n",
       "      <td>59</td>\n",
       "      <td>0</td>\n",
       "    </tr>\n",
       "    <tr>\n",
       "      <th>4</th>\n",
       "      <td>C2B</td>\n",
       "      <td>Airlines</td>\n",
       "      <td>Online</td>\n",
       "      <td>Bronze Plan</td>\n",
       "      <td>8</td>\n",
       "      <td>SINGAPORE</td>\n",
       "      <td>16.0</td>\n",
       "      <td>4.0</td>\n",
       "      <td>28</td>\n",
       "      <td>0</td>\n",
       "    </tr>\n",
       "  </tbody>\n",
       "</table>\n",
       "</div>"
      ],
      "text/plain": [
       "         Agency    Agency Type Distribution Channel              Product Name  \\\n",
       "0           C2B       Airlines               Online             Other_Product   \n",
       "1           EPX  Travel Agency               Online         Cancellation Plan   \n",
       "2  Other_Agency       Airlines               Online                Basic Plan   \n",
       "3           EPX  Travel Agency               Online  2 way Comprehensive Plan   \n",
       "4           C2B       Airlines               Online               Bronze Plan   \n",
       "\n",
       "   Duration    Destination  Net Sales  Commision (in value)  Age  Claim  \n",
       "0       365      SINGAPORE      216.0                  54.0   57      0  \n",
       "1         4       MALAYSIA       10.0                   0.0   33      0  \n",
       "2        19          INDIA       22.0                   7.7   26      0  \n",
       "3        20  UNITED STATES      112.0                   0.0   59      0  \n",
       "4         8      SINGAPORE       16.0                   4.0   28      0  "
      ]
     },
     "execution_count": 89,
     "metadata": {},
     "output_type": "execute_result"
    }
   ],
   "source": [
    "df.head()"
   ]
  },
  {
   "cell_type": "code",
   "execution_count": 90,
   "metadata": {},
   "outputs": [
    {
     "data": {
      "text/plain": [
       "['Agency',\n",
       " 'Agency Type',\n",
       " 'Distribution Channel',\n",
       " 'Product Name',\n",
       " 'Destination']"
      ]
     },
     "execution_count": 90,
     "metadata": {},
     "output_type": "execute_result"
    }
   ],
   "source": [
    "categoricals=list(df.select_dtypes(include=[\"object\"]).columns)\n",
    "categoricals"
   ]
  },
  {
   "cell_type": "markdown",
   "metadata": {},
   "source": [
    "##### One Hot Encoding"
   ]
  },
  {
   "cell_type": "code",
   "execution_count": 91,
   "metadata": {},
   "outputs": [
    {
     "data": {
      "text/html": [
       "<div>\n",
       "<style scoped>\n",
       "    .dataframe tbody tr th:only-of-type {\n",
       "        vertical-align: middle;\n",
       "    }\n",
       "\n",
       "    .dataframe tbody tr th {\n",
       "        vertical-align: top;\n",
       "    }\n",
       "\n",
       "    .dataframe thead th {\n",
       "        text-align: right;\n",
       "    }\n",
       "</style>\n",
       "<table border=\"1\" class=\"dataframe\">\n",
       "  <thead>\n",
       "    <tr style=\"text-align: right;\">\n",
       "      <th></th>\n",
       "      <th>Duration</th>\n",
       "      <th>Net Sales</th>\n",
       "      <th>Commision (in value)</th>\n",
       "      <th>Age</th>\n",
       "      <th>Claim</th>\n",
       "      <th>Agency_C2B</th>\n",
       "      <th>Agency_CWT</th>\n",
       "      <th>Agency_EPX</th>\n",
       "      <th>Agency_Other_Agency</th>\n",
       "      <th>Agency Type_Airlines</th>\n",
       "      <th>...</th>\n",
       "      <th>Destination_INDONESIA</th>\n",
       "      <th>Destination_JAPAN</th>\n",
       "      <th>Destination_KOREA, REPUBLIC OF</th>\n",
       "      <th>Destination_MALAYSIA</th>\n",
       "      <th>Destination_Other_Destination</th>\n",
       "      <th>Destination_PHILIPPINES</th>\n",
       "      <th>Destination_SINGAPORE</th>\n",
       "      <th>Destination_THAILAND</th>\n",
       "      <th>Destination_UNITED STATES</th>\n",
       "      <th>Destination_VIET NAM</th>\n",
       "    </tr>\n",
       "  </thead>\n",
       "  <tbody>\n",
       "    <tr>\n",
       "      <th>0</th>\n",
       "      <td>365</td>\n",
       "      <td>216.0</td>\n",
       "      <td>54.0</td>\n",
       "      <td>57</td>\n",
       "      <td>0</td>\n",
       "      <td>True</td>\n",
       "      <td>False</td>\n",
       "      <td>False</td>\n",
       "      <td>False</td>\n",
       "      <td>True</td>\n",
       "      <td>...</td>\n",
       "      <td>False</td>\n",
       "      <td>False</td>\n",
       "      <td>False</td>\n",
       "      <td>False</td>\n",
       "      <td>False</td>\n",
       "      <td>False</td>\n",
       "      <td>True</td>\n",
       "      <td>False</td>\n",
       "      <td>False</td>\n",
       "      <td>False</td>\n",
       "    </tr>\n",
       "    <tr>\n",
       "      <th>1</th>\n",
       "      <td>4</td>\n",
       "      <td>10.0</td>\n",
       "      <td>0.0</td>\n",
       "      <td>33</td>\n",
       "      <td>0</td>\n",
       "      <td>False</td>\n",
       "      <td>False</td>\n",
       "      <td>True</td>\n",
       "      <td>False</td>\n",
       "      <td>False</td>\n",
       "      <td>...</td>\n",
       "      <td>False</td>\n",
       "      <td>False</td>\n",
       "      <td>False</td>\n",
       "      <td>True</td>\n",
       "      <td>False</td>\n",
       "      <td>False</td>\n",
       "      <td>False</td>\n",
       "      <td>False</td>\n",
       "      <td>False</td>\n",
       "      <td>False</td>\n",
       "    </tr>\n",
       "    <tr>\n",
       "      <th>2</th>\n",
       "      <td>19</td>\n",
       "      <td>22.0</td>\n",
       "      <td>7.7</td>\n",
       "      <td>26</td>\n",
       "      <td>0</td>\n",
       "      <td>False</td>\n",
       "      <td>False</td>\n",
       "      <td>False</td>\n",
       "      <td>True</td>\n",
       "      <td>True</td>\n",
       "      <td>...</td>\n",
       "      <td>False</td>\n",
       "      <td>False</td>\n",
       "      <td>False</td>\n",
       "      <td>False</td>\n",
       "      <td>False</td>\n",
       "      <td>False</td>\n",
       "      <td>False</td>\n",
       "      <td>False</td>\n",
       "      <td>False</td>\n",
       "      <td>False</td>\n",
       "    </tr>\n",
       "    <tr>\n",
       "      <th>3</th>\n",
       "      <td>20</td>\n",
       "      <td>112.0</td>\n",
       "      <td>0.0</td>\n",
       "      <td>59</td>\n",
       "      <td>0</td>\n",
       "      <td>False</td>\n",
       "      <td>False</td>\n",
       "      <td>True</td>\n",
       "      <td>False</td>\n",
       "      <td>False</td>\n",
       "      <td>...</td>\n",
       "      <td>False</td>\n",
       "      <td>False</td>\n",
       "      <td>False</td>\n",
       "      <td>False</td>\n",
       "      <td>False</td>\n",
       "      <td>False</td>\n",
       "      <td>False</td>\n",
       "      <td>False</td>\n",
       "      <td>True</td>\n",
       "      <td>False</td>\n",
       "    </tr>\n",
       "    <tr>\n",
       "      <th>4</th>\n",
       "      <td>8</td>\n",
       "      <td>16.0</td>\n",
       "      <td>4.0</td>\n",
       "      <td>28</td>\n",
       "      <td>0</td>\n",
       "      <td>True</td>\n",
       "      <td>False</td>\n",
       "      <td>False</td>\n",
       "      <td>False</td>\n",
       "      <td>True</td>\n",
       "      <td>...</td>\n",
       "      <td>False</td>\n",
       "      <td>False</td>\n",
       "      <td>False</td>\n",
       "      <td>False</td>\n",
       "      <td>False</td>\n",
       "      <td>False</td>\n",
       "      <td>True</td>\n",
       "      <td>False</td>\n",
       "      <td>False</td>\n",
       "      <td>False</td>\n",
       "    </tr>\n",
       "  </tbody>\n",
       "</table>\n",
       "<p>5 rows × 33 columns</p>\n",
       "</div>"
      ],
      "text/plain": [
       "   Duration  Net Sales  Commision (in value)  Age  Claim  Agency_C2B  \\\n",
       "0       365      216.0                  54.0   57      0        True   \n",
       "1         4       10.0                   0.0   33      0       False   \n",
       "2        19       22.0                   7.7   26      0       False   \n",
       "3        20      112.0                   0.0   59      0       False   \n",
       "4         8       16.0                   4.0   28      0        True   \n",
       "\n",
       "   Agency_CWT  Agency_EPX  Agency_Other_Agency  Agency Type_Airlines  ...  \\\n",
       "0       False       False                False                  True  ...   \n",
       "1       False        True                False                 False  ...   \n",
       "2       False       False                 True                  True  ...   \n",
       "3       False        True                False                 False  ...   \n",
       "4       False       False                False                  True  ...   \n",
       "\n",
       "   Destination_INDONESIA  Destination_JAPAN  Destination_KOREA, REPUBLIC OF  \\\n",
       "0                  False              False                           False   \n",
       "1                  False              False                           False   \n",
       "2                  False              False                           False   \n",
       "3                  False              False                           False   \n",
       "4                  False              False                           False   \n",
       "\n",
       "   Destination_MALAYSIA  Destination_Other_Destination  \\\n",
       "0                 False                          False   \n",
       "1                  True                          False   \n",
       "2                 False                          False   \n",
       "3                 False                          False   \n",
       "4                 False                          False   \n",
       "\n",
       "   Destination_PHILIPPINES  Destination_SINGAPORE  Destination_THAILAND  \\\n",
       "0                    False                   True                 False   \n",
       "1                    False                  False                 False   \n",
       "2                    False                  False                 False   \n",
       "3                    False                  False                 False   \n",
       "4                    False                   True                 False   \n",
       "\n",
       "   Destination_UNITED STATES  Destination_VIET NAM  \n",
       "0                      False                 False  \n",
       "1                      False                 False  \n",
       "2                      False                 False  \n",
       "3                       True                 False  \n",
       "4                      False                 False  \n",
       "\n",
       "[5 rows x 33 columns]"
      ]
     },
     "execution_count": 91,
     "metadata": {},
     "output_type": "execute_result"
    }
   ],
   "source": [
    "#OHE ke categorical data\n",
    "one_hot=pd.get_dummies(data=df, columns=categoricals)\n",
    "one_hot.head()"
   ]
  },
  {
   "cell_type": "code",
   "execution_count": 92,
   "metadata": {},
   "outputs": [
    {
     "name": "stdout",
     "output_type": "stream",
     "text": [
      "Duration\n",
      "Net Sales\n",
      "Commision (in value)\n",
      "Age\n",
      "Claim\n",
      "Agency_C2B\n",
      "Agency_CWT\n",
      "Agency_EPX\n",
      "Agency_Other_Agency\n",
      "Agency Type_Airlines\n",
      "Agency Type_Travel Agency\n",
      "Distribution Channel_Offline\n",
      "Distribution Channel_Online\n",
      "Product Name_2 way Comprehensive Plan\n",
      "Product Name_Basic Plan\n",
      "Product Name_Bronze Plan\n",
      "Product Name_Cancellation Plan\n",
      "Product Name_Other_Product\n",
      "Product Name_Rental Vehicle Excess Insurance\n",
      "Destination_AUSTRALIA\n",
      "Destination_CHINA\n",
      "Destination_HONG KONG\n",
      "Destination_INDIA\n",
      "Destination_INDONESIA\n",
      "Destination_JAPAN\n",
      "Destination_KOREA, REPUBLIC OF\n",
      "Destination_MALAYSIA\n",
      "Destination_Other_Destination\n",
      "Destination_PHILIPPINES\n",
      "Destination_SINGAPORE\n",
      "Destination_THAILAND\n",
      "Destination_UNITED STATES\n",
      "Destination_VIET NAM\n"
     ]
    }
   ],
   "source": [
    "#kita liat list kolom yang di OHE\n",
    "print(*list(one_hot.columns), sep=\"\\n\")"
   ]
  },
  {
   "cell_type": "code",
   "execution_count": 94,
   "metadata": {},
   "outputs": [
    {
     "data": {
      "text/plain": [
       "Claim\n",
       "0    37001\n",
       "1      663\n",
       "Name: count, dtype: int64"
      ]
     },
     "execution_count": 94,
     "metadata": {},
     "output_type": "execute_result"
    }
   ],
   "source": [
    "one_hot['Claim'].value_counts()"
   ]
  },
  {
   "cell_type": "code",
   "execution_count": 97,
   "metadata": {},
   "outputs": [
    {
     "data": {
      "text/html": [
       "<div>\n",
       "<style scoped>\n",
       "    .dataframe tbody tr th:only-of-type {\n",
       "        vertical-align: middle;\n",
       "    }\n",
       "\n",
       "    .dataframe tbody tr th {\n",
       "        vertical-align: top;\n",
       "    }\n",
       "\n",
       "    .dataframe thead th {\n",
       "        text-align: right;\n",
       "    }\n",
       "</style>\n",
       "<table border=\"1\" class=\"dataframe\">\n",
       "  <thead>\n",
       "    <tr style=\"text-align: right;\">\n",
       "      <th></th>\n",
       "      <th>Duration</th>\n",
       "      <th>Net Sales</th>\n",
       "      <th>Commision (in value)</th>\n",
       "      <th>Age</th>\n",
       "      <th>Claim</th>\n",
       "      <th>Agency_C2B</th>\n",
       "      <th>Agency_CWT</th>\n",
       "      <th>Agency_EPX</th>\n",
       "      <th>Agency_Other_Agency</th>\n",
       "      <th>Agency Type_Airlines</th>\n",
       "      <th>...</th>\n",
       "      <th>Destination_INDONESIA</th>\n",
       "      <th>Destination_JAPAN</th>\n",
       "      <th>Destination_KOREA, REPUBLIC OF</th>\n",
       "      <th>Destination_MALAYSIA</th>\n",
       "      <th>Destination_Other_Destination</th>\n",
       "      <th>Destination_PHILIPPINES</th>\n",
       "      <th>Destination_SINGAPORE</th>\n",
       "      <th>Destination_THAILAND</th>\n",
       "      <th>Destination_UNITED STATES</th>\n",
       "      <th>Destination_VIET NAM</th>\n",
       "    </tr>\n",
       "  </thead>\n",
       "  <tbody>\n",
       "    <tr>\n",
       "      <th>316</th>\n",
       "      <td>176</td>\n",
       "      <td>29.0</td>\n",
       "      <td>9.57</td>\n",
       "      <td>76</td>\n",
       "      <td>0</td>\n",
       "      <td>False</td>\n",
       "      <td>False</td>\n",
       "      <td>False</td>\n",
       "      <td>True</td>\n",
       "      <td>False</td>\n",
       "      <td>...</td>\n",
       "      <td>False</td>\n",
       "      <td>False</td>\n",
       "      <td>False</td>\n",
       "      <td>True</td>\n",
       "      <td>False</td>\n",
       "      <td>False</td>\n",
       "      <td>False</td>\n",
       "      <td>False</td>\n",
       "      <td>False</td>\n",
       "      <td>False</td>\n",
       "    </tr>\n",
       "    <tr>\n",
       "      <th>41239</th>\n",
       "      <td>237</td>\n",
       "      <td>15.0</td>\n",
       "      <td>6.00</td>\n",
       "      <td>23</td>\n",
       "      <td>0</td>\n",
       "      <td>False</td>\n",
       "      <td>False</td>\n",
       "      <td>False</td>\n",
       "      <td>True</td>\n",
       "      <td>True</td>\n",
       "      <td>...</td>\n",
       "      <td>False</td>\n",
       "      <td>False</td>\n",
       "      <td>False</td>\n",
       "      <td>False</td>\n",
       "      <td>True</td>\n",
       "      <td>False</td>\n",
       "      <td>False</td>\n",
       "      <td>False</td>\n",
       "      <td>False</td>\n",
       "      <td>False</td>\n",
       "    </tr>\n",
       "    <tr>\n",
       "      <th>21217</th>\n",
       "      <td>180</td>\n",
       "      <td>35.0</td>\n",
       "      <td>0.00</td>\n",
       "      <td>36</td>\n",
       "      <td>0</td>\n",
       "      <td>False</td>\n",
       "      <td>False</td>\n",
       "      <td>True</td>\n",
       "      <td>False</td>\n",
       "      <td>False</td>\n",
       "      <td>...</td>\n",
       "      <td>False</td>\n",
       "      <td>False</td>\n",
       "      <td>False</td>\n",
       "      <td>False</td>\n",
       "      <td>False</td>\n",
       "      <td>True</td>\n",
       "      <td>False</td>\n",
       "      <td>False</td>\n",
       "      <td>False</td>\n",
       "      <td>False</td>\n",
       "    </tr>\n",
       "    <tr>\n",
       "      <th>32558</th>\n",
       "      <td>41</td>\n",
       "      <td>69.3</td>\n",
       "      <td>41.58</td>\n",
       "      <td>57</td>\n",
       "      <td>0</td>\n",
       "      <td>False</td>\n",
       "      <td>True</td>\n",
       "      <td>False</td>\n",
       "      <td>False</td>\n",
       "      <td>False</td>\n",
       "      <td>...</td>\n",
       "      <td>False</td>\n",
       "      <td>False</td>\n",
       "      <td>False</td>\n",
       "      <td>False</td>\n",
       "      <td>False</td>\n",
       "      <td>False</td>\n",
       "      <td>False</td>\n",
       "      <td>False</td>\n",
       "      <td>True</td>\n",
       "      <td>False</td>\n",
       "    </tr>\n",
       "    <tr>\n",
       "      <th>43777</th>\n",
       "      <td>100</td>\n",
       "      <td>33.0</td>\n",
       "      <td>11.55</td>\n",
       "      <td>58</td>\n",
       "      <td>0</td>\n",
       "      <td>False</td>\n",
       "      <td>False</td>\n",
       "      <td>False</td>\n",
       "      <td>True</td>\n",
       "      <td>True</td>\n",
       "      <td>...</td>\n",
       "      <td>False</td>\n",
       "      <td>False</td>\n",
       "      <td>False</td>\n",
       "      <td>False</td>\n",
       "      <td>False</td>\n",
       "      <td>False</td>\n",
       "      <td>False</td>\n",
       "      <td>True</td>\n",
       "      <td>False</td>\n",
       "      <td>False</td>\n",
       "    </tr>\n",
       "  </tbody>\n",
       "</table>\n",
       "<p>5 rows × 33 columns</p>\n",
       "</div>"
      ],
      "text/plain": [
       "       Duration  Net Sales  Commision (in value)  Age  Claim  Agency_C2B  \\\n",
       "316         176       29.0                  9.57   76      0       False   \n",
       "41239       237       15.0                  6.00   23      0       False   \n",
       "21217       180       35.0                  0.00   36      0       False   \n",
       "32558        41       69.3                 41.58   57      0       False   \n",
       "43777       100       33.0                 11.55   58      0       False   \n",
       "\n",
       "       Agency_CWT  Agency_EPX  Agency_Other_Agency  Agency Type_Airlines  ...  \\\n",
       "316         False       False                 True                 False  ...   \n",
       "41239       False       False                 True                  True  ...   \n",
       "21217       False        True                False                 False  ...   \n",
       "32558        True       False                False                 False  ...   \n",
       "43777       False       False                 True                  True  ...   \n",
       "\n",
       "       Destination_INDONESIA  Destination_JAPAN  \\\n",
       "316                    False              False   \n",
       "41239                  False              False   \n",
       "21217                  False              False   \n",
       "32558                  False              False   \n",
       "43777                  False              False   \n",
       "\n",
       "       Destination_KOREA, REPUBLIC OF  Destination_MALAYSIA  \\\n",
       "316                             False                  True   \n",
       "41239                           False                 False   \n",
       "21217                           False                 False   \n",
       "32558                           False                 False   \n",
       "43777                           False                 False   \n",
       "\n",
       "       Destination_Other_Destination  Destination_PHILIPPINES  \\\n",
       "316                            False                    False   \n",
       "41239                           True                    False   \n",
       "21217                          False                     True   \n",
       "32558                          False                    False   \n",
       "43777                          False                    False   \n",
       "\n",
       "       Destination_SINGAPORE  Destination_THAILAND  Destination_UNITED STATES  \\\n",
       "316                    False                 False                      False   \n",
       "41239                  False                 False                      False   \n",
       "21217                  False                 False                      False   \n",
       "32558                  False                 False                       True   \n",
       "43777                  False                  True                      False   \n",
       "\n",
       "       Destination_VIET NAM  \n",
       "316                   False  \n",
       "41239                 False  \n",
       "21217                 False  \n",
       "32558                 False  \n",
       "43777                 False  \n",
       "\n",
       "[5 rows x 33 columns]"
      ]
     },
     "execution_count": 97,
     "metadata": {},
     "output_type": "execute_result"
    }
   ],
   "source": [
    "#kita mau dapetin nilai yang di reject biar sama kaya yang di accept yaitu 663\n",
    "sample_reject = one_hot[one_hot['Claim']==0].sample(663)\n",
    "sample_reject.head()"
   ]
  },
  {
   "cell_type": "code",
   "execution_count": 98,
   "metadata": {},
   "outputs": [
    {
     "data": {
      "text/plain": [
       "Claim\n",
       "0    663\n",
       "1    663\n",
       "Name: count, dtype: int64"
      ]
     },
     "execution_count": 98,
     "metadata": {},
     "output_type": "execute_result"
    }
   ],
   "source": [
    "#kita concat yang claim di reject sama di accept\n",
    "res = pd.concat([sample_reject, one_hot[one_hot['Claim']==1]], axis=0)\n",
    "res['Claim'].value_counts()"
   ]
  },
  {
   "cell_type": "code",
   "execution_count": 99,
   "metadata": {},
   "outputs": [],
   "source": [
    "from sklearn.linear_model import LogisticRegression\n",
    "from sklearn.metrics import classification_report\n",
    "from sklearn.metrics import accuracy_score, f1_score"
   ]
  },
  {
   "cell_type": "code",
   "execution_count": 100,
   "metadata": {},
   "outputs": [],
   "source": [
    "from sklearn.model_selection import train_test_split"
   ]
  },
  {
   "cell_type": "code",
   "execution_count": 101,
   "metadata": {},
   "outputs": [],
   "source": [
    "X = res.drop([\"Claim\"], axis=1)\n",
    "y = res[\"Claim\"]\n",
    "\n",
    "X_train, X_test, y_train, y_test = train_test_split(X, y, test_size=0.3, random_state=47)"
   ]
  },
  {
   "cell_type": "markdown",
   "metadata": {},
   "source": [
    "#### Logistic Regression"
   ]
  },
  {
   "cell_type": "code",
   "execution_count": 102,
   "metadata": {},
   "outputs": [
    {
     "name": "stdout",
     "output_type": "stream",
     "text": [
      "0.7297297297297297\n",
      "0.7487437185929648\n",
      "              precision    recall  f1-score   support\n",
      "\n",
      "           0     0.7118    0.8274    0.7653       197\n",
      "           1     0.7988    0.6716    0.7297       201\n",
      "\n",
      "    accuracy                         0.7487       398\n",
      "   macro avg     0.7553    0.7495    0.7475       398\n",
      "weighted avg     0.7557    0.7487    0.7473       398\n",
      "\n"
     ]
    }
   ],
   "source": [
    "model = LogisticRegression()\n",
    "model.fit(X_train,y_train)\n",
    "preds=model.predict(X_test)\n",
    "\n",
    "print(f1_score(y_test, preds))\n",
    "print(accuracy_score(y_test,preds))\n",
    "\n",
    "# Classification report\n",
    "print(classification_report(y_test, preds, digits=4))"
   ]
  },
  {
   "cell_type": "markdown",
   "metadata": {},
   "source": [
    "##### Decision Tree Classifier"
   ]
  },
  {
   "cell_type": "code",
   "execution_count": 103,
   "metadata": {},
   "outputs": [
    {
     "name": "stdout",
     "output_type": "stream",
     "text": [
      "0.6315789473684211\n",
      "0.6306532663316583\n"
     ]
    }
   ],
   "source": [
    "from sklearn.tree import DecisionTreeClassifier\n",
    "\n",
    "model_DT= DecisionTreeClassifier()\n",
    "model_DT.fit(X_train,y_train)\n",
    "pred_DT=model_DT.predict(X_test)\n",
    "print(f1_score(y_test,pred_DT))\n",
    "print(accuracy_score(y_test,pred_DT))"
   ]
  },
  {
   "cell_type": "markdown",
   "metadata": {},
   "source": [
    "##### Random Forest Classifier"
   ]
  },
  {
   "cell_type": "code",
   "execution_count": 104,
   "metadata": {},
   "outputs": [
    {
     "name": "stdout",
     "output_type": "stream",
     "text": [
      "0.6981627296587927\n",
      "0.7110552763819096\n"
     ]
    }
   ],
   "source": [
    "from sklearn.ensemble import RandomForestClassifier \n",
    "\n",
    "model_rf= RandomForestClassifier(random_state=1)\n",
    "model_rf.fit(X_train,y_train)\n",
    "pred_rf=model_rf.predict(X_test)\n",
    "print(f1_score(y_test,pred_rf))\n",
    "print(accuracy_score(y_test,pred_rf))"
   ]
  },
  {
   "cell_type": "code",
   "execution_count": 105,
   "metadata": {},
   "outputs": [
    {
     "data": {
      "text/plain": [
       "0.7474939728460854"
      ]
     },
     "execution_count": 105,
     "metadata": {},
     "output_type": "execute_result"
    }
   ],
   "source": [
    "f1_score(y_test, preds, average='macro')"
   ]
  }
 ],
 "metadata": {
  "kernelspec": {
   "display_name": "Python 3",
   "language": "python",
   "name": "python3"
  },
  "language_info": {
   "codemirror_mode": {
    "name": "ipython",
    "version": 3
   },
   "file_extension": ".py",
   "mimetype": "text/x-python",
   "name": "python",
   "nbconvert_exporter": "python",
   "pygments_lexer": "ipython3",
   "version": "3.11.4"
  },
  "orig_nbformat": 4
 },
 "nbformat": 4,
 "nbformat_minor": 2
}
